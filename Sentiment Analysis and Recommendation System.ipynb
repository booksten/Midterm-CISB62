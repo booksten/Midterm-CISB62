{
 "cells": [
  {
   "cell_type": "markdown",
   "metadata": {},
   "source": [
    "<h2>Sentiment Analysis and Recommendation System</h2>\n",
    "<h3> Mt SAC CISB 62 </h3>\n",
    "<h3>Final Project Fall 2023</h3>\n",
    "<h3> Alexander Alvarez</h3>"
   ]
  },
  {
   "cell_type": "markdown",
   "metadata": {},
   "source": [
    "<h2>Introduction</h2>"
   ]
  },
  {
   "cell_type": "markdown",
   "metadata": {},
   "source": [
    "#### The 'Amazon Fine Food Reviews' from kaggle.The complete datas has about 560,000 reviews, but we can trim the dataset to 20,000 reviews.\n",
    "\n",
    "The goal is to recommend new products for Reviewer that does reviews often, and using RNN to do an Sentimental Analyst using only the Amazon reviews as the model.\n",
    "\n",
    "https://www.kaggle.com/datasets/snap/amazon-fine-food-reviews"
   ]
  },
  {
   "cell_type": "code",
   "execution_count": 1,
   "metadata": {},
   "outputs": [],
   "source": [
    "import pandas as pd\n",
    "from matplotlib import pyplot as plt\n",
    "import numpy as np\n",
    "import seaborn as sns\n",
    "import datetime\n",
    "import re\n",
    "import keras\n",
    "from keras.preprocessing.text import Tokenizer\n",
    "from sklearn.model_selection import train_test_split\n",
    "import tensorflow as tf\n",
    "from tensorflow.keras.callbacks import ModelCheckpoint\n",
    "from tensorflow.keras.preprocessing import sequence\n",
    "from tensorflow.keras.preprocessing.sequence import pad_sequences\n",
    "from tensorflow.keras.layers import Dense, LSTM, Embedding\n",
    "from tensorflow.keras.models import Sequential\n",
    "from nltk.corpus import stopwords\n",
    "from string import punctuation\n",
    "# pd.set_option('display.max_colwidth', None)"
   ]
  },
  {
   "cell_type": "code",
   "execution_count": 2,
   "metadata": {},
   "outputs": [],
   "source": [
    "import warnings\n",
    "warnings.filterwarnings(\"ignore\")"
   ]
  },
  {
   "cell_type": "code",
   "execution_count": 3,
   "metadata": {},
   "outputs": [
    {
     "data": {
      "text/html": [
       "<div>\n",
       "<style scoped>\n",
       "    .dataframe tbody tr th:only-of-type {\n",
       "        vertical-align: middle;\n",
       "    }\n",
       "\n",
       "    .dataframe tbody tr th {\n",
       "        vertical-align: top;\n",
       "    }\n",
       "\n",
       "    .dataframe thead th {\n",
       "        text-align: right;\n",
       "    }\n",
       "</style>\n",
       "<table border=\"1\" class=\"dataframe\">\n",
       "  <thead>\n",
       "    <tr style=\"text-align: right;\">\n",
       "      <th></th>\n",
       "      <th>Id</th>\n",
       "      <th>ProductId</th>\n",
       "      <th>UserId</th>\n",
       "      <th>ProfileName</th>\n",
       "      <th>HelpfulnessNumerator</th>\n",
       "      <th>HelpfulnessDenominator</th>\n",
       "      <th>Score</th>\n",
       "      <th>Time</th>\n",
       "      <th>Summary</th>\n",
       "      <th>Text</th>\n",
       "    </tr>\n",
       "  </thead>\n",
       "  <tbody>\n",
       "    <tr>\n",
       "      <th>0</th>\n",
       "      <td>1</td>\n",
       "      <td>B001E4KFG0</td>\n",
       "      <td>A3SGXH7AUHU8GW</td>\n",
       "      <td>delmartian</td>\n",
       "      <td>1</td>\n",
       "      <td>1</td>\n",
       "      <td>5</td>\n",
       "      <td>1303862400</td>\n",
       "      <td>Good Quality Dog Food</td>\n",
       "      <td>I have bought several of the Vitality canned d...</td>\n",
       "    </tr>\n",
       "    <tr>\n",
       "      <th>1</th>\n",
       "      <td>2</td>\n",
       "      <td>B00813GRG4</td>\n",
       "      <td>A1D87F6ZCVE5NK</td>\n",
       "      <td>dll pa</td>\n",
       "      <td>0</td>\n",
       "      <td>0</td>\n",
       "      <td>1</td>\n",
       "      <td>1346976000</td>\n",
       "      <td>Not as Advertised</td>\n",
       "      <td>Product arrived labeled as Jumbo Salted Peanut...</td>\n",
       "    </tr>\n",
       "  </tbody>\n",
       "</table>\n",
       "</div>"
      ],
      "text/plain": [
       "   Id   ProductId          UserId ProfileName  HelpfulnessNumerator  \\\n",
       "0   1  B001E4KFG0  A3SGXH7AUHU8GW  delmartian                     1   \n",
       "1   2  B00813GRG4  A1D87F6ZCVE5NK      dll pa                     0   \n",
       "\n",
       "   HelpfulnessDenominator  Score        Time                Summary  \\\n",
       "0                       1      5  1303862400  Good Quality Dog Food   \n",
       "1                       0      1  1346976000      Not as Advertised   \n",
       "\n",
       "                                                Text  \n",
       "0  I have bought several of the Vitality canned d...  \n",
       "1  Product arrived labeled as Jumbo Salted Peanut...  "
      ]
     },
     "execution_count": 3,
     "metadata": {},
     "output_type": "execute_result"
    }
   ],
   "source": [
    "#Importing the data set\n",
    "df = pd.read_csv('20k_Reviews.csv')\n",
    "df.head(2)"
   ]
  },
  {
   "cell_type": "code",
   "execution_count": 4,
   "metadata": {},
   "outputs": [
    {
     "name": "stdout",
     "output_type": "stream",
     "text": [
      "<class 'pandas.core.frame.DataFrame'>\n",
      "RangeIndex: 20000 entries, 0 to 19999\n",
      "Data columns (total 10 columns):\n",
      " #   Column                  Non-Null Count  Dtype \n",
      "---  ------                  --------------  ----- \n",
      " 0   Id                      20000 non-null  int64 \n",
      " 1   ProductId               20000 non-null  object\n",
      " 2   UserId                  20000 non-null  object\n",
      " 3   ProfileName             19999 non-null  object\n",
      " 4   HelpfulnessNumerator    20000 non-null  int64 \n",
      " 5   HelpfulnessDenominator  20000 non-null  int64 \n",
      " 6   Score                   20000 non-null  int64 \n",
      " 7   Time                    20000 non-null  int64 \n",
      " 8   Summary                 20000 non-null  object\n",
      " 9   Text                    20000 non-null  object\n",
      "dtypes: int64(5), object(5)\n",
      "memory usage: 1.5+ MB\n"
     ]
    }
   ],
   "source": [
    "#Information regarding the columns\n",
    "df.info()"
   ]
  },
  {
   "cell_type": "code",
   "execution_count": 5,
   "metadata": {},
   "outputs": [
    {
     "data": {
      "text/plain": [
       "Index(['Id', 'ProductId', 'UserId', 'ProfileName', 'HelpfulnessNumerator',\n",
       "       'HelpfulnessDenominator', 'Score', 'Time', 'Summary', 'Text'],\n",
       "      dtype='object')"
      ]
     },
     "execution_count": 5,
     "metadata": {},
     "output_type": "execute_result"
    }
   ],
   "source": [
    "#List of columns\n",
    "df.columns"
   ]
  },
  {
   "cell_type": "code",
   "execution_count": 6,
   "metadata": {},
   "outputs": [
    {
     "data": {
      "text/plain": [
       "(20000, 10)"
      ]
     },
     "execution_count": 6,
     "metadata": {},
     "output_type": "execute_result"
    }
   ],
   "source": [
    "df.shape"
   ]
  },
  {
   "cell_type": "code",
   "execution_count": 7,
   "metadata": {},
   "outputs": [],
   "source": [
    "#Grabing the columns that we need \n",
    "df_reviews = df[['ProductId','ProfileName','Score','Text','HelpfulnessNumerator','HelpfulnessDenominator']]"
   ]
  },
  {
   "cell_type": "markdown",
   "metadata": {},
   "source": [
    "#### Let's display the top 10 reviewers in the list."
   ]
  },
  {
   "cell_type": "code",
   "execution_count": 8,
   "metadata": {},
   "outputs": [
    {
     "data": {
      "text/plain": [
       "ProfileName\n",
       "c2                                            22\n",
       "Chris                                         17\n",
       "Carrie, \"Formerly &#34;Sister Carrie&#34;\"    16\n",
       "C. F. Hill \"CFH\"                              15\n",
       "John                                          14\n",
       "Gary Peterson                                 14\n",
       "Dan                                           14\n",
       "Mike                                          11\n",
       "Jim                                           11\n",
       "Jared Castle                                  11\n",
       "dtype: int64"
      ]
     },
     "execution_count": 8,
     "metadata": {},
     "output_type": "execute_result"
    }
   ],
   "source": [
    "#Loading the top 10 Reviewers with the most reviews.\n",
    "df.pivot_table(columns=['ProfileName'], aggfunc='size').sort_values(ascending=False).head(10)"
   ]
  },
  {
   "cell_type": "code",
   "execution_count": 9,
   "metadata": {},
   "outputs": [],
   "source": [
    "popular = df[['ProductId','ProfileName']].groupby('ProductId').count().sort_values(['ProfileName'], ascending=False).reset_index()"
   ]
  },
  {
   "cell_type": "code",
   "execution_count": 10,
   "metadata": {},
   "outputs": [
    {
     "data": {
      "image/png": "[encoded data removed]",
      "text/plain": [
       "<Figure size 900x700 with 1 Axes>"
      ]
     },
     "metadata": {},
     "output_type": "display_data"
    }
   ],
   "source": [
    "p = popular.sort_values('ProfileName',ascending=False).head(25)\n",
    "plt.figure(figsize=(9,7))\n",
    "graph=sns.barplot(x=p.ProductId, y=p.ProfileName, order=p.ProductId)\n",
    "plt.xticks(rotation=90)\n",
    "plt.title('Top 25 products with most Reviewers')\n",
    "plt.ylabel('ProfileName')\n",
    "\n",
    "i=0\n",
    "for p in graph.patches:\n",
    "    height = p.get_height()\n",
    "    graph.text(p.get_x()+p.get_width()/2., height + 0.1,\n",
    "        popular['ProfileName'][i],ha=\"center\",size=\"medium\",fontfamily=\"serif\",rotation=45)\n",
    "    i += 1"
   ]
  },
  {
   "cell_type": "code",
   "execution_count": 11,
   "metadata": {},
   "outputs": [
    {
     "data": {
      "image/png": "[encoded data removed]",
      "text/plain": [
       "<Figure size 700x500 with 1 Axes>"
      ]
     },
     "metadata": {},
     "output_type": "display_data"
    }
   ],
   "source": [
    "p = popular.sort_values('ProfileName',ascending=False).head(10)\n",
    "plt.figure(figsize=(7,5))\n",
    "graph = sns.barplot(x=p.ProductId, y=p.ProfileName, order=p.ProductId)\n",
    "plt.xticks(rotation=90)\n",
    "plt.title('Top 10 products with most Reviewers')\n",
    "plt.ylabel('ProfileName')\n",
    "\n",
    "i=0\n",
    "for p in graph.patches:\n",
    "    height = p.get_height()\n",
    "    graph.text(p.get_x()+p.get_width()/2., height + 0.1,\n",
    "        popular['ProfileName'][i],ha=\"center\",size=\"medium\",fontfamily=\"serif\",rotation=45)\n",
    "    i += 1"
   ]
  },
  {
   "cell_type": "code",
   "execution_count": 12,
   "metadata": {},
   "outputs": [
    {
     "data": {
      "text/html": [
       "<div>\n",
       "<style scoped>\n",
       "    .dataframe tbody tr th:only-of-type {\n",
       "        vertical-align: middle;\n",
       "    }\n",
       "\n",
       "    .dataframe tbody tr th {\n",
       "        vertical-align: top;\n",
       "    }\n",
       "\n",
       "    .dataframe thead th {\n",
       "        text-align: right;\n",
       "    }\n",
       "</style>\n",
       "<table border=\"1\" class=\"dataframe\">\n",
       "  <thead>\n",
       "    <tr style=\"text-align: right;\">\n",
       "      <th></th>\n",
       "      <th>ProductId</th>\n",
       "      <th>ProfileName</th>\n",
       "      <th>Score</th>\n",
       "      <th>Text</th>\n",
       "      <th>HelpfulnessNumerator</th>\n",
       "      <th>HelpfulnessDenominator</th>\n",
       "    </tr>\n",
       "  </thead>\n",
       "  <tbody>\n",
       "    <tr>\n",
       "      <th>143</th>\n",
       "      <td>B001GVISJW</td>\n",
       "      <td>c2</td>\n",
       "      <td>5</td>\n",
       "      <td>If you are looking for a less messy version of...</td>\n",
       "      <td>0</td>\n",
       "      <td>0</td>\n",
       "    </tr>\n",
       "    <tr>\n",
       "      <th>3587</th>\n",
       "      <td>B004X8TK9W</td>\n",
       "      <td>c2</td>\n",
       "      <td>5</td>\n",
       "      <td>I may be dating myself here a bit but I rememb...</td>\n",
       "      <td>1</td>\n",
       "      <td>1</td>\n",
       "    </tr>\n",
       "    <tr>\n",
       "      <th>4993</th>\n",
       "      <td>B000FA398U</td>\n",
       "      <td>c2</td>\n",
       "      <td>5</td>\n",
       "      <td>Try these first for all your seafood soups and...</td>\n",
       "      <td>3</td>\n",
       "      <td>3</td>\n",
       "    </tr>\n",
       "    <tr>\n",
       "      <th>6371</th>\n",
       "      <td>B000084EKO</td>\n",
       "      <td>c2</td>\n",
       "      <td>3</td>\n",
       "      <td>I honestly cannot say that I saw any differenc...</td>\n",
       "      <td>0</td>\n",
       "      <td>0</td>\n",
       "    </tr>\n",
       "    <tr>\n",
       "      <th>6372</th>\n",
       "      <td>B000084EKA</td>\n",
       "      <td>c2</td>\n",
       "      <td>4</td>\n",
       "      <td>I think 9 Lives does a better job on this vari...</td>\n",
       "      <td>0</td>\n",
       "      <td>0</td>\n",
       "    </tr>\n",
       "    <tr>\n",
       "      <th>6373</th>\n",
       "      <td>B000084EKB</td>\n",
       "      <td>c2</td>\n",
       "      <td>4</td>\n",
       "      <td>This version is ground.  NOt my current cat's ...</td>\n",
       "      <td>0</td>\n",
       "      <td>0</td>\n",
       "    </tr>\n",
       "    <tr>\n",
       "      <th>6374</th>\n",
       "      <td>B000084EKC</td>\n",
       "      <td>c2</td>\n",
       "      <td>5</td>\n",
       "      <td>According to my cat, this stuff is just great....</td>\n",
       "      <td>1</td>\n",
       "      <td>1</td>\n",
       "    </tr>\n",
       "    <tr>\n",
       "      <th>6375</th>\n",
       "      <td>B000084EKD</td>\n",
       "      <td>c2</td>\n",
       "      <td>2</td>\n",
       "      <td>I haven't had a cat yet that liked this one.  ...</td>\n",
       "      <td>1</td>\n",
       "      <td>1</td>\n",
       "    </tr>\n",
       "    <tr>\n",
       "      <th>6380</th>\n",
       "      <td>B000084EKG</td>\n",
       "      <td>c2</td>\n",
       "      <td>5</td>\n",
       "      <td>This is my cat's favorite one.  He just licks ...</td>\n",
       "      <td>2</td>\n",
       "      <td>2</td>\n",
       "    </tr>\n",
       "    <tr>\n",
       "      <th>6382</th>\n",
       "      <td>B000084EK8</td>\n",
       "      <td>c2</td>\n",
       "      <td>3</td>\n",
       "      <td>Once or twice a year for a little variety and ...</td>\n",
       "      <td>2</td>\n",
       "      <td>2</td>\n",
       "    </tr>\n",
       "    <tr>\n",
       "      <th>6385</th>\n",
       "      <td>B000084EK9</td>\n",
       "      <td>c2</td>\n",
       "      <td>1</td>\n",
       "      <td>I honestly have to say that I just won't buy t...</td>\n",
       "      <td>0</td>\n",
       "      <td>0</td>\n",
       "    </tr>\n",
       "    <tr>\n",
       "      <th>6393</th>\n",
       "      <td>B000084EK4</td>\n",
       "      <td>c2</td>\n",
       "      <td>3</td>\n",
       "      <td>This food variety is ground, thus my cat doesn...</td>\n",
       "      <td>0</td>\n",
       "      <td>0</td>\n",
       "    </tr>\n",
       "    <tr>\n",
       "      <th>6394</th>\n",
       "      <td>B000084EK5</td>\n",
       "      <td>c2</td>\n",
       "      <td>5</td>\n",
       "      <td>This is my cat's third favorite food.  It's gr...</td>\n",
       "      <td>1</td>\n",
       "      <td>1</td>\n",
       "    </tr>\n",
       "    <tr>\n",
       "      <th>6395</th>\n",
       "      <td>B000084EK6</td>\n",
       "      <td>c2</td>\n",
       "      <td>5</td>\n",
       "      <td>This is another favorite in our house.  My cat...</td>\n",
       "      <td>0</td>\n",
       "      <td>0</td>\n",
       "    </tr>\n",
       "    <tr>\n",
       "      <th>6396</th>\n",
       "      <td>B000084EK7</td>\n",
       "      <td>c2</td>\n",
       "      <td>4</td>\n",
       "      <td>This one is a great basic food. Whatever is in...</td>\n",
       "      <td>0</td>\n",
       "      <td>0</td>\n",
       "    </tr>\n",
       "    <tr>\n",
       "      <th>8028</th>\n",
       "      <td>B0012KH06Y</td>\n",
       "      <td>c2</td>\n",
       "      <td>3</td>\n",
       "      <td>These guys are quite high on the nutritional s...</td>\n",
       "      <td>2</td>\n",
       "      <td>2</td>\n",
       "    </tr>\n",
       "    <tr>\n",
       "      <th>8222</th>\n",
       "      <td>B000BXUVYG</td>\n",
       "      <td>c2</td>\n",
       "      <td>4</td>\n",
       "      <td>As with most cats I've read about here, both o...</td>\n",
       "      <td>1</td>\n",
       "      <td>1</td>\n",
       "    </tr>\n",
       "    <tr>\n",
       "      <th>11068</th>\n",
       "      <td>B004INIUQQ</td>\n",
       "      <td>c2</td>\n",
       "      <td>5</td>\n",
       "      <td>This is a new line for Friskies and is not a \"...</td>\n",
       "      <td>0</td>\n",
       "      <td>0</td>\n",
       "    </tr>\n",
       "    <tr>\n",
       "      <th>11776</th>\n",
       "      <td>B0012KB4WU</td>\n",
       "      <td>c2</td>\n",
       "      <td>4</td>\n",
       "      <td>This one seems to be flavored more to a cat's ...</td>\n",
       "      <td>3</td>\n",
       "      <td>3</td>\n",
       "    </tr>\n",
       "    <tr>\n",
       "      <th>16441</th>\n",
       "      <td>B007TJGZ54</td>\n",
       "      <td>c2</td>\n",
       "      <td>4</td>\n",
       "      <td>This is a breakfast blend coffee and, for many...</td>\n",
       "      <td>0</td>\n",
       "      <td>0</td>\n",
       "    </tr>\n",
       "    <tr>\n",
       "      <th>19062</th>\n",
       "      <td>B001FA1EZ4</td>\n",
       "      <td>c2</td>\n",
       "      <td>5</td>\n",
       "      <td>I just love Hershey's chocolate anyway, so it'...</td>\n",
       "      <td>2</td>\n",
       "      <td>2</td>\n",
       "    </tr>\n",
       "    <tr>\n",
       "      <th>19965</th>\n",
       "      <td>B001G0NKVO</td>\n",
       "      <td>c2</td>\n",
       "      <td>5</td>\n",
       "      <td>In case you're wondering, this is a pate, and ...</td>\n",
       "      <td>3</td>\n",
       "      <td>3</td>\n",
       "    </tr>\n",
       "  </tbody>\n",
       "</table>\n",
       "</div>"
      ],
      "text/plain": [
       "        ProductId ProfileName  Score  \\\n",
       "143    B001GVISJW          c2      5   \n",
       "3587   B004X8TK9W          c2      5   \n",
       "4993   B000FA398U          c2      5   \n",
       "6371   B000084EKO          c2      3   \n",
       "6372   B000084EKA          c2      4   \n",
       "6373   B000084EKB          c2      4   \n",
       "6374   B000084EKC          c2      5   \n",
       "6375   B000084EKD          c2      2   \n",
       "6380   B000084EKG          c2      5   \n",
       "6382   B000084EK8          c2      3   \n",
       "6385   B000084EK9          c2      1   \n",
       "6393   B000084EK4          c2      3   \n",
       "6394   B000084EK5          c2      5   \n",
       "6395   B000084EK6          c2      5   \n",
       "6396   B000084EK7          c2      4   \n",
       "8028   B0012KH06Y          c2      3   \n",
       "8222   B000BXUVYG          c2      4   \n",
       "11068  B004INIUQQ          c2      5   \n",
       "11776  B0012KB4WU          c2      4   \n",
       "16441  B007TJGZ54          c2      4   \n",
       "19062  B001FA1EZ4          c2      5   \n",
       "19965  B001G0NKVO          c2      5   \n",
       "\n",
       "                                                    Text  \\\n",
       "143    If you are looking for a less messy version of...   \n",
       "3587   I may be dating myself here a bit but I rememb...   \n",
       "4993   Try these first for all your seafood soups and...   \n",
       "6371   I honestly cannot say that I saw any differenc...   \n",
       "6372   I think 9 Lives does a better job on this vari...   \n",
       "6373   This version is ground.  NOt my current cat's ...   \n",
       "6374   According to my cat, this stuff is just great....   \n",
       "6375   I haven't had a cat yet that liked this one.  ...   \n",
       "6380   This is my cat's favorite one.  He just licks ...   \n",
       "6382   Once or twice a year for a little variety and ...   \n",
       "6385   I honestly have to say that I just won't buy t...   \n",
       "6393   This food variety is ground, thus my cat doesn...   \n",
       "6394   This is my cat's third favorite food.  It's gr...   \n",
       "6395   This is another favorite in our house.  My cat...   \n",
       "6396   This one is a great basic food. Whatever is in...   \n",
       "8028   These guys are quite high on the nutritional s...   \n",
       "8222   As with most cats I've read about here, both o...   \n",
       "11068  This is a new line for Friskies and is not a \"...   \n",
       "11776  This one seems to be flavored more to a cat's ...   \n",
       "16441  This is a breakfast blend coffee and, for many...   \n",
       "19062  I just love Hershey's chocolate anyway, so it'...   \n",
       "19965  In case you're wondering, this is a pate, and ...   \n",
       "\n",
       "       HelpfulnessNumerator  HelpfulnessDenominator  \n",
       "143                       0                       0  \n",
       "3587                      1                       1  \n",
       "4993                      3                       3  \n",
       "6371                      0                       0  \n",
       "6372                      0                       0  \n",
       "6373                      0                       0  \n",
       "6374                      1                       1  \n",
       "6375                      1                       1  \n",
       "6380                      2                       2  \n",
       "6382                      2                       2  \n",
       "6385                      0                       0  \n",
       "6393                      0                       0  \n",
       "6394                      1                       1  \n",
       "6395                      0                       0  \n",
       "6396                      0                       0  \n",
       "8028                      2                       2  \n",
       "8222                      1                       1  \n",
       "11068                     0                       0  \n",
       "11776                     3                       3  \n",
       "16441                     0                       0  \n",
       "19062                     2                       2  \n",
       "19965                     3                       3  "
      ]
     },
     "execution_count": 12,
     "metadata": {},
     "output_type": "execute_result"
    }
   ],
   "source": [
    "#Filtering all the reviews made by user c2\n",
    "df_reviews_chris=df_reviews[df_reviews['ProfileName']=='c2']\n",
    "df_reviews_chris"
   ]
  },
  {
   "cell_type": "markdown",
   "metadata": {},
   "source": [
    "<h3>Plotting his percentage of positive views vs negative reviews</h3>"
   ]
  },
  {
   "cell_type": "code",
   "execution_count": 13,
   "metadata": {},
   "outputs": [
    {
     "data": {
      "image/png": "[encoded data removed]",
      "text/plain": [
       "<Figure size 640x480 with 1 Axes>"
      ]
     },
     "metadata": {},
     "output_type": "display_data"
    }
   ],
   "source": [
    "#Plotting C2's percentage of positive views vs negative reviews\n",
    "fig, axs = plt.subplots(sharey=True, tight_layout=True)\n",
    "axs.hist(df_reviews_chris['Score'],bins=5)\n",
    "plt.xlim([1, 5])\n",
    "plt.xticks(np.arange(1, 6, 1))\n",
    "plt.show()"
   ]
  },
  {
   "cell_type": "markdown",
   "metadata": {},
   "source": [
    "<h3> Plotting the total reviews</h3>"
   ]
  },
  {
   "cell_type": "code",
   "execution_count": 14,
   "metadata": {},
   "outputs": [
    {
     "data": {
      "image/png": "[encoded data removed]",
      "text/plain": [
       "<Figure size 640x480 with 1 Axes>"
      ]
     },
     "metadata": {},
     "output_type": "display_data"
    }
   ],
   "source": [
    "fig, axs = plt.subplots(sharey=True, tight_layout=True)\n",
    "axs.hist(df_reviews['Score'],bins=5)\n",
    "plt.xlim([1, 5])\n",
    "plt.xticks(np.arange(1, 6, 1))\n",
    "plt.title('Total Reviews')\n",
    "plt.show()"
   ]
  },
  {
   "cell_type": "markdown",
   "metadata": {},
   "source": [
    "#### Let's prepare a histogram of helpfulness rating"
   ]
  },
  {
   "cell_type": "code",
   "execution_count": 15,
   "metadata": {},
   "outputs": [],
   "source": [
    "df_reviews['Percent'] = (df_reviews['HelpfulnessNumerator'] / df_reviews['HelpfulnessDenominator'])*100\n",
    "df_reviews['Percent'].fillna(0,inplace=True)"
   ]
  },
  {
   "cell_type": "markdown",
   "metadata": {},
   "source": [
    "Exploring if the Helpfulness Rating does any impact on the items and reviews."
   ]
  },
  {
   "cell_type": "code",
   "execution_count": 16,
   "metadata": {},
   "outputs": [
    {
     "data": {
      "image/png": "[encoded data removed]",
      "text/plain": [
       "<Figure size 640x480 with 1 Axes>"
      ]
     },
     "metadata": {},
     "output_type": "display_data"
    }
   ],
   "source": [
    "fig, axs = plt.subplots(sharey=True, tight_layout=True)\n",
    "axs.hist(df_reviews['Percent'],bins=20)\n",
    "plt.xticks(np.arange(1, 100, 10))\n",
    "plt.title('Histogram of Helpfulness Rating')\n",
    "plt.show()"
   ]
  },
  {
   "cell_type": "markdown",
   "metadata": {},
   "source": [
    "Changing the Score into Postive and Negative Values."
   ]
  },
  {
   "cell_type": "code",
   "execution_count": 17,
   "metadata": {},
   "outputs": [],
   "source": [
    "df_reviews['Polarity_Rating'] = df_reviews['Score'].apply(lambda x: 'Positive' if x > 3 else 'Negative')"
   ]
  },
  {
   "cell_type": "markdown",
   "metadata": {},
   "source": [
    "Seeing the Postive and Negative rations."
   ]
  },
  {
   "cell_type": "code",
   "execution_count": 18,
   "metadata": {},
   "outputs": [
    {
     "data": {
      "text/plain": [
       "<Axes: xlabel='Polarity_Rating', ylabel='count'>"
      ]
     },
     "execution_count": 18,
     "metadata": {},
     "output_type": "execute_result"
    },
    {
     "data": {
      "image/png": "[encoded data removed]",
      "text/plain": [
       "<Figure size 640x480 with 1 Axes>"
      ]
     },
     "metadata": {},
     "output_type": "display_data"
    }
   ],
   "source": [
    "#plotting the ratio of Positive and Negative Reviews\n",
    "sns.countplot(data = df_reviews, x= 'Polarity_Rating')"
   ]
  },
  {
   "cell_type": "code",
   "execution_count": 19,
   "metadata": {},
   "outputs": [
    {
     "data": {
      "text/plain": [
       "<Axes: ylabel='count'>"
      ]
     },
     "execution_count": 19,
     "metadata": {},
     "output_type": "execute_result"
    },
    {
     "data": {
      "image/png": "[encoded data removed]",
      "text/plain": [
       "<Figure size 640x480 with 1 Axes>"
      ]
     },
     "metadata": {},
     "output_type": "display_data"
    }
   ],
   "source": [
    "#plotting the ratio of Positive and Negative Reviews in a pie Chart\n",
    "myexplode = [0.05, 0]\n",
    "df_reviews['Polarity_Rating'].value_counts().plot(kind=\"pie\",autopct=\"%.2f\",explode=myexplode)"
   ]
  },
  {
   "cell_type": "markdown",
   "metadata": {},
   "source": [
    "By looking at the data, we can see that there are more Positive reviews than Negative. Thus, let's balance the data so it will have a 50/50 rating."
   ]
  },
  {
   "cell_type": "code",
   "execution_count": 20,
   "metadata": {},
   "outputs": [
    {
     "data": {
      "text/plain": [
       "4593"
      ]
     },
     "execution_count": 20,
     "metadata": {},
     "output_type": "execute_result"
    }
   ],
   "source": [
    "df_reviews[df_reviews['Polarity_Rating'] == 'Negative'].shape[0]"
   ]
  },
  {
   "cell_type": "markdown",
   "metadata": {},
   "source": [
    "We can see there is only 4,593 negative reviews, so we will filter out 5,000 positive reviews from the data set"
   ]
  },
  {
   "cell_type": "code",
   "execution_count": 21,
   "metadata": {},
   "outputs": [],
   "source": [
    "data_Positive = df_reviews[df_reviews['Polarity_Rating'] == 'Positive'][0:5000]\n",
    "data_Negative = df_reviews[df_reviews['Polarity_Rating'] == 'Negative']\n",
    "\n",
    "data_Negative_over = data_Negative.sample(8000, replace=True)\n",
    "df_balance_reviews = pd.concat([data_Positive, data_Negative_over], axis=0)"
   ]
  },
  {
   "cell_type": "markdown",
   "metadata": {},
   "source": [
    "Downloading stopwords from nltk"
   ]
  },
  {
   "cell_type": "code",
   "execution_count": 22,
   "metadata": {},
   "outputs": [],
   "source": [
    "#Setting the stop words\n",
    "english_stops = set(stopwords.words('english'))"
   ]
  },
  {
   "cell_type": "markdown",
   "metadata": {},
   "source": [
    "Cleaning and splitting the data into Reviews and Review Score."
   ]
  },
  {
   "cell_type": "code",
   "execution_count": 23,
   "metadata": {},
   "outputs": [],
   "source": [
    "df = df_balance_reviews\n",
    "x_data = df['Text']       # Reviews/Input\n",
    "y_data = df['Polarity_Rating']    # Sentiment/Output\n",
    "\n",
    "# PRE-PROCESS REVIEW\n",
    "x_data = x_data.replace({'<.*?>': ''}, regex = True)          # remove html tag\n",
    "x_data = x_data.replace({'[^A-Za-z]': ' '}, regex = True)     # remove non alphabet\n",
    "x_data = x_data.apply(lambda review: [w for w in review.split() if w not in english_stops])  # remove stop words\n",
    "x_data = x_data.apply(lambda review: [w.lower() for w in review])   # lower case\n",
    "\n",
    "# ENCODE SENTIMENT -> 0 & 1\n",
    "y_data = y_data.replace('Positive', 1)\n",
    "### simmilarly for y_data\n",
    "y_data = y_data.replace('Negative', 0)"
   ]
  },
  {
   "cell_type": "markdown",
   "metadata": {},
   "source": [
    "Splitting the dataset for training"
   ]
  },
  {
   "cell_type": "code",
   "execution_count": 24,
   "metadata": {},
   "outputs": [],
   "source": [
    "X_train, X_test, y_train, y_test = train_test_split(x_data, y_data, test_size=0.2, random_state=101)"
   ]
  },
  {
   "cell_type": "markdown",
   "metadata": {},
   "source": [
    "Making a function to get the max length for padding"
   ]
  },
  {
   "cell_type": "code",
   "execution_count": 25,
   "metadata": {},
   "outputs": [],
   "source": [
    "def get_max_length(x_train):\n",
    "    review_length = []\n",
    "    for review in x_train:\n",
    "        review_length.append(len(review))\n",
    "\n",
    "    return int(np.ceil(np.mean(review_length)))"
   ]
  },
  {
   "cell_type": "code",
   "execution_count": 26,
   "metadata": {},
   "outputs": [
    {
     "name": "stdout",
     "output_type": "stream",
     "text": [
      "48\n"
     ]
    }
   ],
   "source": [
    "max_length = get_max_length(X_train)\n",
    "print(max_length)"
   ]
  },
  {
   "cell_type": "markdown",
   "metadata": {},
   "source": [
    "Loading the Tokenizer to convert the words into sequences and then add the padding to make the rows equal lenght."
   ]
  },
  {
   "cell_type": "code",
   "execution_count": 27,
   "metadata": {},
   "outputs": [],
   "source": [
    "# ENCODE REVIEW\n",
    "token = Tokenizer(lower=False)    # False becuase we already did it. \n",
    "token.fit_on_texts(X_train)\n",
    "x_train = token.texts_to_sequences(X_train)\n",
    "x_test = token.texts_to_sequences(X_test)\n",
    "\n",
    "### this is the code to add the pad to x_train\n",
    "x_train = pad_sequences(x_train, maxlen=max_length, padding='post', truncating='post')\n",
    "\n",
    "############# add pad to x_test   ########################### \n",
    "x_test = pad_sequences(x_test, maxlen=max_length, padding='post', truncating='post')\n",
    "\n",
    "total_words = len(token.word_index) + 1   # we need to add 1 because of 0 padding"
   ]
  },
  {
   "cell_type": "markdown",
   "metadata": {},
   "source": [
    "Building the RNN with LSTM Model. "
   ]
  },
  {
   "cell_type": "code",
   "execution_count": 28,
   "metadata": {},
   "outputs": [],
   "source": [
    "# ARCHITECTURE\n",
    "EMBED_DIM = 3200\n",
    "LSTM_OUT = 64\n",
    "\n",
    "#### add the model here:\n",
    "model = Sequential()\n",
    "\n",
    "#model.add(Embedding(input_dim=max_length, output_dim=LSTM_OUT,input_length=max_length))\n",
    "model.add(Embedding(total_words, EMBED_DIM, input_length = max_length))\n",
    "model.add(LSTM(LSTM_OUT))\n",
    "model.add(Dense(units=1, activation='sigmoid'))\n",
    "\n",
    "### compile the model using: optimizer = 'adam', loss = 'binary_crossentropy', metrics = ['accuracy']\n",
    "model.compile(optimizer='adam', loss='binary_crossentropy', metrics=['accuracy'])\n",
    "\n",
    "#Adding a Checkpoint to save the model.\n",
    "checkpoint = ModelCheckpoint('models/LSTM.h5', monitor='accuracy', save_best_only=True, verbose=1)"
   ]
  },
  {
   "cell_type": "code",
   "execution_count": 29,
   "metadata": {},
   "outputs": [
    {
     "name": "stdout",
     "output_type": "stream",
     "text": [
      "Model: \"sequential\"\n",
      "_________________________________________________________________\n",
      " Layer (type)                Output Shape              Param #   \n",
      "=================================================================\n",
      " embedding (Embedding)       (None, 48, 3200)          54249600  \n",
      "                                                                 \n",
      " lstm (LSTM)                 (None, 64)                835840    \n",
      "                                                                 \n",
      " dense (Dense)               (None, 1)                 65        \n",
      "                                                                 \n",
      "=================================================================\n",
      "Total params: 55085505 (210.13 MB)\n",
      "Trainable params: 55085505 (210.13 MB)\n",
      "Non-trainable params: 0 (0.00 Byte)\n",
      "_________________________________________________________________\n"
     ]
    }
   ],
   "source": [
    "model.summary()"
   ]
  },
  {
   "cell_type": "code",
   "execution_count": 30,
   "metadata": {},
   "outputs": [
    {
     "name": "stdout",
     "output_type": "stream",
     "text": [
      "Epoch 1/3\n",
      "520/520 [==============================] - ETA: 0s - loss: 0.4591 - accuracy: 0.7862\n",
      "Epoch 1: accuracy improved from -inf to 0.78615, saving model to models/LSTM.h5\n",
      "520/520 [==============================] - 91s 174ms/step - loss: 0.4591 - accuracy: 0.7862 - val_loss: 0.3586 - val_accuracy: 0.8615\n",
      "Epoch 2/3\n",
      "520/520 [==============================] - ETA: 0s - loss: 0.1767 - accuracy: 0.9382\n",
      "Epoch 2: accuracy improved from 0.78615 to 0.93817, saving model to models/LSTM.h5\n",
      "520/520 [==============================] - 91s 175ms/step - loss: 0.1767 - accuracy: 0.9382 - val_loss: 0.3032 - val_accuracy: 0.8923\n",
      "Epoch 3/3\n",
      "520/520 [==============================] - ETA: 0s - loss: 0.0643 - accuracy: 0.9796\n",
      "Epoch 3: accuracy improved from 0.93817 to 0.97962, saving model to models/LSTM.h5\n",
      "520/520 [==============================] - 90s 173ms/step - loss: 0.0643 - accuracy: 0.9796 - val_loss: 0.3664 - val_accuracy: 0.8881\n"
     ]
    }
   ],
   "source": [
    "history = model.fit(x_train, y_train, epochs=3, batch_size=20, callbacks= [checkpoint],validation_data=(x_test, y_test))"
   ]
  },
  {
   "cell_type": "markdown",
   "metadata": {},
   "source": [
    "Plotting the loss"
   ]
  },
  {
   "cell_type": "code",
   "execution_count": 31,
   "metadata": {},
   "outputs": [
    {
     "data": {
      "text/plain": [
       "<matplotlib.legend.Legend at 0x1763b4b10>"
      ]
     },
     "execution_count": 31,
     "metadata": {},
     "output_type": "execute_result"
    },
    {
     "data": {
      "image/png": "[encoded data removed]",
      "text/plain": [
       "<Figure size 1200x600 with 1 Axes>"
      ]
     },
     "metadata": {},
     "output_type": "display_data"
    }
   ],
   "source": [
    "plt.figure(figsize=(12,6))\n",
    "plt.plot(model.history.history['loss'][:])\n",
    "plt.plot(model.history.history['val_loss'][:])\n",
    "plt.title('Model loss')\n",
    "plt.xlabel('epoch')\n",
    "plt.ylabel('loss (categorical_crossentropy)')\n",
    "plt.legend(['Train', 'Val'], loc='upper right')"
   ]
  },
  {
   "cell_type": "markdown",
   "metadata": {},
   "source": [
    "Plotting the Accuracy"
   ]
  },
  {
   "cell_type": "code",
   "execution_count": 32,
   "metadata": {},
   "outputs": [
    {
     "data": {
      "image/png": "[encoded data removed]",
      "text/plain": [
       "<Figure size 1200x600 with 1 Axes>"
      ]
     },
     "metadata": {},
     "output_type": "display_data"
    }
   ],
   "source": [
    "plt.figure(figsize=(12,6))\n",
    "plt.plot(model.history.history['accuracy'][:])\n",
    "plt.plot(model.history.history['val_accuracy'][:])\n",
    "plt.title('Model accuracy')\n",
    "plt.ylabel('Accuracy')\n",
    "plt.xlabel('Epoch')\n",
    "plt.legend(['Train', 'Val'], loc='upper right')\n",
    "plt.show()"
   ]
  },
  {
   "cell_type": "markdown",
   "metadata": {},
   "source": [
    "Now we can test out the model."
   ]
  },
  {
   "cell_type": "code",
   "execution_count": 33,
   "metadata": {},
   "outputs": [
    {
     "data": {
      "text/plain": [
       "ProductId                                                        B0028C44Z0\n",
       "ProfileName                                                             Lou\n",
       "Score                                                                     2\n",
       "Text                      Even with small containers, they don't fill th...\n",
       "HelpfulnessNumerator                                                      0\n",
       "HelpfulnessDenominator                                                    0\n",
       "Percent                                                                 0.0\n",
       "Polarity_Rating                                                    Negative\n",
       "Name: 200, dtype: object"
      ]
     },
     "execution_count": 33,
     "metadata": {},
     "output_type": "execute_result"
    }
   ],
   "source": [
    "#I grab a random review from the dataframe\n",
    "value=200\n",
    "df_reviews.iloc[value]"
   ]
  },
  {
   "cell_type": "code",
   "execution_count": 34,
   "metadata": {},
   "outputs": [
    {
     "data": {
      "text/plain": [
       "\"Even with small containers, they don't fill them up.  These little tins are less than half filled and at the price charged it seems a rip-off. Is there some exotic ingredient as costly as gold contained in those tiny squares?  Or how about the cereal ploy, they were filled at the factory but settled in transport.<br />Can manufacturers be honest in their dealings?\""
      ]
     },
     "execution_count": 34,
     "metadata": {},
     "output_type": "execute_result"
    }
   ],
   "source": [
    "df_reviews.iloc[value]['Text']"
   ]
  },
  {
   "cell_type": "markdown",
   "metadata": {},
   "source": [
    "Cleaning the data before loading it to the model for prediction"
   ]
  },
  {
   "cell_type": "code",
   "execution_count": 35,
   "metadata": {},
   "outputs": [],
   "source": [
    "review = df_reviews.iloc[value]['Text']\n",
    "\n",
    "regex = re.compile(r'[^a-zA-Z\\s]')\n",
    "review = regex.sub('', review)\n",
    "\n",
    "words = review.split(' ')\n",
    "filtered = [w for w in words if w not in english_stops]\n",
    "filtered = ' '.join(filtered)\n",
    "filtered = [filtered.lower()]"
   ]
  },
  {
   "cell_type": "markdown",
   "metadata": {},
   "source": [
    "Tokenized and Encoded the word so it can be loaded into the model for prediction"
   ]
  },
  {
   "cell_type": "code",
   "execution_count": 36,
   "metadata": {},
   "outputs": [
    {
     "name": "stdout",
     "output_type": "stream",
     "text": [
      "[[   22   104  1015   788  1181    69    28  2046    95   199   880    32\n",
      "   3922   256  4850   716  3753   370  5154  1567  1177   696  3349  1119\n",
      "    791  4521   880  3306  5389   965  2318  1233 14404     0     0     0\n",
      "      0     0     0     0     0     0     0     0     0     0     0     0]]\n"
     ]
    }
   ],
   "source": [
    "tokenize_words = token.texts_to_sequences(filtered)\n",
    "tokenize_words = pad_sequences(tokenize_words, maxlen=max_length, padding='post', truncating='post')\n",
    "print(tokenize_words)"
   ]
  },
  {
   "cell_type": "code",
   "execution_count": 37,
   "metadata": {},
   "outputs": [
    {
     "name": "stdout",
     "output_type": "stream",
     "text": [
      "1/1 [==============================] - 0s 147ms/step\n",
      "[[0.00423851]]\n",
      "Negative\n"
     ]
    }
   ],
   "source": [
    "result = model.predict(tokenize_words)\n",
    "print(result)\n",
    "if result >= .50:\n",
    "    print('Positive')\n",
    "else:\n",
    "    print('Negative')"
   ]
  },
  {
   "cell_type": "code",
   "execution_count": 38,
   "metadata": {},
   "outputs": [],
   "source": [
    "from collections import Counter\n",
    "from sklearn.metrics import confusion_matrix, ConfusionMatrixDisplay\n",
    "from sklearn.svm import SVC\n",
    "import itertools"
   ]
  },
  {
   "cell_type": "code",
   "execution_count": 39,
   "metadata": {},
   "outputs": [
    {
     "data": {
      "text/plain": [
       "<sklearn.metrics._plot.confusion_matrix.ConfusionMatrixDisplay at 0x282a7ab10>"
      ]
     },
     "execution_count": 39,
     "metadata": {},
     "output_type": "execute_result"
    },
    {
     "data": {
      "image/png": "[encoded data removed]",
      "text/plain": [
       "<Figure size 640x480 with 2 Axes>"
      ]
     },
     "metadata": {},
     "output_type": "display_data"
    }
   ],
   "source": [
    "clf = SVC(random_state=0)\n",
    "clf.fit(x_train, y_train)\n",
    "SVC(random_state=0)\n",
    "ConfusionMatrixDisplay.from_estimator(clf, x_test, y_test)"
   ]
  },
  {
   "cell_type": "markdown",
   "metadata": {},
   "source": [
    "<h1>Preparing to train the model for Recommedation.</h1>"
   ]
  },
  {
   "cell_type": "markdown",
   "metadata": {},
   "source": [
    "The code from Restricted Boltzmann machine model using Tensorflow v1 was taken from CISB62 Week 12"
   ]
  },
  {
   "cell_type": "code",
   "execution_count": 40,
   "metadata": {},
   "outputs": [],
   "source": [
    "#Making an Unique Numeric ID for all the users\n",
    "df_reviews['UserID'] = pd.factorize(df_reviews['ProfileName'])[0] + 1"
   ]
  },
  {
   "cell_type": "code",
   "execution_count": 42,
   "metadata": {},
   "outputs": [
    {
     "data": {
      "text/plain": [
       "array([143])"
      ]
     },
     "execution_count": 42,
     "metadata": {},
     "output_type": "execute_result"
    }
   ],
   "source": [
    "df_reviews[df_reviews['ProfileName'] == 'c2']['UserID'].unique()"
   ]
  },
  {
   "cell_type": "code",
   "execution_count": 43,
   "metadata": {},
   "outputs": [
    {
     "data": {
      "text/html": [
       "<div>\n",
       "<style scoped>\n",
       "    .dataframe tbody tr th:only-of-type {\n",
       "        vertical-align: middle;\n",
       "    }\n",
       "\n",
       "    .dataframe tbody tr th {\n",
       "        vertical-align: top;\n",
       "    }\n",
       "\n",
       "    .dataframe thead th {\n",
       "        text-align: right;\n",
       "    }\n",
       "</style>\n",
       "<table border=\"1\" class=\"dataframe\">\n",
       "  <thead>\n",
       "    <tr style=\"text-align: right;\">\n",
       "      <th></th>\n",
       "      <th>ProductId</th>\n",
       "      <th>ProfileName</th>\n",
       "      <th>Score</th>\n",
       "      <th>Text</th>\n",
       "      <th>HelpfulnessNumerator</th>\n",
       "      <th>HelpfulnessDenominator</th>\n",
       "      <th>Percent</th>\n",
       "      <th>Polarity_Rating</th>\n",
       "      <th>UserID</th>\n",
       "    </tr>\n",
       "  </thead>\n",
       "  <tbody>\n",
       "    <tr>\n",
       "      <th>143</th>\n",
       "      <td>B001GVISJW</td>\n",
       "      <td>c2</td>\n",
       "      <td>5</td>\n",
       "      <td>If you are looking for a less messy version of...</td>\n",
       "      <td>0</td>\n",
       "      <td>0</td>\n",
       "      <td>0.0</td>\n",
       "      <td>Positive</td>\n",
       "      <td>143</td>\n",
       "    </tr>\n",
       "    <tr>\n",
       "      <th>3587</th>\n",
       "      <td>B004X8TK9W</td>\n",
       "      <td>c2</td>\n",
       "      <td>5</td>\n",
       "      <td>I may be dating myself here a bit but I rememb...</td>\n",
       "      <td>1</td>\n",
       "      <td>1</td>\n",
       "      <td>100.0</td>\n",
       "      <td>Positive</td>\n",
       "      <td>143</td>\n",
       "    </tr>\n",
       "    <tr>\n",
       "      <th>4993</th>\n",
       "      <td>B000FA398U</td>\n",
       "      <td>c2</td>\n",
       "      <td>5</td>\n",
       "      <td>Try these first for all your seafood soups and...</td>\n",
       "      <td>3</td>\n",
       "      <td>3</td>\n",
       "      <td>100.0</td>\n",
       "      <td>Positive</td>\n",
       "      <td>143</td>\n",
       "    </tr>\n",
       "    <tr>\n",
       "      <th>6371</th>\n",
       "      <td>B000084EKO</td>\n",
       "      <td>c2</td>\n",
       "      <td>3</td>\n",
       "      <td>I honestly cannot say that I saw any differenc...</td>\n",
       "      <td>0</td>\n",
       "      <td>0</td>\n",
       "      <td>0.0</td>\n",
       "      <td>Negative</td>\n",
       "      <td>143</td>\n",
       "    </tr>\n",
       "    <tr>\n",
       "      <th>6372</th>\n",
       "      <td>B000084EKA</td>\n",
       "      <td>c2</td>\n",
       "      <td>4</td>\n",
       "      <td>I think 9 Lives does a better job on this vari...</td>\n",
       "      <td>0</td>\n",
       "      <td>0</td>\n",
       "      <td>0.0</td>\n",
       "      <td>Positive</td>\n",
       "      <td>143</td>\n",
       "    </tr>\n",
       "  </tbody>\n",
       "</table>\n",
       "</div>"
      ],
      "text/plain": [
       "       ProductId ProfileName  Score  \\\n",
       "143   B001GVISJW          c2      5   \n",
       "3587  B004X8TK9W          c2      5   \n",
       "4993  B000FA398U          c2      5   \n",
       "6371  B000084EKO          c2      3   \n",
       "6372  B000084EKA          c2      4   \n",
       "\n",
       "                                                   Text  HelpfulnessNumerator  \\\n",
       "143   If you are looking for a less messy version of...                     0   \n",
       "3587  I may be dating myself here a bit but I rememb...                     1   \n",
       "4993  Try these first for all your seafood soups and...                     3   \n",
       "6371  I honestly cannot say that I saw any differenc...                     0   \n",
       "6372  I think 9 Lives does a better job on this vari...                     0   \n",
       "\n",
       "      HelpfulnessDenominator  Percent Polarity_Rating  UserID  \n",
       "143                        0      0.0        Positive     143  \n",
       "3587                       1    100.0        Positive     143  \n",
       "4993                       3    100.0        Positive     143  \n",
       "6371                       0      0.0        Negative     143  \n",
       "6372                       0      0.0        Positive     143  "
      ]
     },
     "execution_count": 43,
     "metadata": {},
     "output_type": "execute_result"
    }
   ],
   "source": [
    "df_reviews[df_reviews['UserID'] == 143].head()"
   ]
  },
  {
   "cell_type": "code",
   "execution_count": 44,
   "metadata": {},
   "outputs": [
    {
     "name": "stdout",
     "output_type": "stream",
     "text": [
      "Removed Duplicated, Total Reviews 19738\n",
      "Total Reviews 20000\n"
     ]
    }
   ],
   "source": [
    "#I had to clean the data some more, some review went back and review the same item mulitple times as a follow up.\n",
    "cleaned = df_reviews.drop_duplicates(subset=['ProductId', 'UserID'], keep='last')\n",
    "\n",
    "print('Removed Duplicated, Total Reviews {}'.format(cleaned.shape[0]))\n",
    "print('Total Reviews {}'.format(df_reviews.shape[0]))"
   ]
  },
  {
   "cell_type": "code",
   "execution_count": 45,
   "metadata": {},
   "outputs": [
    {
     "data": {
      "text/html": [
       "<div>\n",
       "<style scoped>\n",
       "    .dataframe tbody tr th:only-of-type {\n",
       "        vertical-align: middle;\n",
       "    }\n",
       "\n",
       "    .dataframe tbody tr th {\n",
       "        vertical-align: top;\n",
       "    }\n",
       "\n",
       "    .dataframe thead th {\n",
       "        text-align: right;\n",
       "    }\n",
       "</style>\n",
       "<table border=\"1\" class=\"dataframe\">\n",
       "  <thead>\n",
       "    <tr style=\"text-align: right;\">\n",
       "      <th></th>\n",
       "      <th>ProductId</th>\n",
       "      <th>ProfileName</th>\n",
       "      <th>Score</th>\n",
       "      <th>Text</th>\n",
       "      <th>HelpfulnessNumerator</th>\n",
       "      <th>HelpfulnessDenominator</th>\n",
       "      <th>Percent</th>\n",
       "      <th>Polarity_Rating</th>\n",
       "      <th>UserID</th>\n",
       "    </tr>\n",
       "  </thead>\n",
       "  <tbody>\n",
       "    <tr>\n",
       "      <th>0</th>\n",
       "      <td>B001E4KFG0</td>\n",
       "      <td>delmartian</td>\n",
       "      <td>5</td>\n",
       "      <td>I have bought several of the Vitality canned d...</td>\n",
       "      <td>1</td>\n",
       "      <td>1</td>\n",
       "      <td>100.0</td>\n",
       "      <td>Positive</td>\n",
       "      <td>1</td>\n",
       "    </tr>\n",
       "    <tr>\n",
       "      <th>1</th>\n",
       "      <td>B00813GRG4</td>\n",
       "      <td>dll pa</td>\n",
       "      <td>1</td>\n",
       "      <td>Product arrived labeled as Jumbo Salted Peanut...</td>\n",
       "      <td>0</td>\n",
       "      <td>0</td>\n",
       "      <td>0.0</td>\n",
       "      <td>Negative</td>\n",
       "      <td>2</td>\n",
       "    </tr>\n",
       "    <tr>\n",
       "      <th>2</th>\n",
       "      <td>B000LQOCH0</td>\n",
       "      <td>Natalia Corres \"Natalia Corres\"</td>\n",
       "      <td>4</td>\n",
       "      <td>This is a confection that has been around a fe...</td>\n",
       "      <td>1</td>\n",
       "      <td>1</td>\n",
       "      <td>100.0</td>\n",
       "      <td>Positive</td>\n",
       "      <td>3</td>\n",
       "    </tr>\n",
       "    <tr>\n",
       "      <th>3</th>\n",
       "      <td>B000UA0QIQ</td>\n",
       "      <td>Karl</td>\n",
       "      <td>2</td>\n",
       "      <td>If you are looking for the secret ingredient i...</td>\n",
       "      <td>3</td>\n",
       "      <td>3</td>\n",
       "      <td>100.0</td>\n",
       "      <td>Negative</td>\n",
       "      <td>4</td>\n",
       "    </tr>\n",
       "    <tr>\n",
       "      <th>4</th>\n",
       "      <td>B006K2ZZ7K</td>\n",
       "      <td>Michael D. Bigham \"M. Wassir\"</td>\n",
       "      <td>5</td>\n",
       "      <td>Great taffy at a great price.  There was a wid...</td>\n",
       "      <td>0</td>\n",
       "      <td>0</td>\n",
       "      <td>0.0</td>\n",
       "      <td>Positive</td>\n",
       "      <td>5</td>\n",
       "    </tr>\n",
       "  </tbody>\n",
       "</table>\n",
       "</div>"
      ],
      "text/plain": [
       "    ProductId                      ProfileName  Score  \\\n",
       "0  B001E4KFG0                       delmartian      5   \n",
       "1  B00813GRG4                           dll pa      1   \n",
       "2  B000LQOCH0  Natalia Corres \"Natalia Corres\"      4   \n",
       "3  B000UA0QIQ                             Karl      2   \n",
       "4  B006K2ZZ7K    Michael D. Bigham \"M. Wassir\"      5   \n",
       "\n",
       "                                                Text  HelpfulnessNumerator  \\\n",
       "0  I have bought several of the Vitality canned d...                     1   \n",
       "1  Product arrived labeled as Jumbo Salted Peanut...                     0   \n",
       "2  This is a confection that has been around a fe...                     1   \n",
       "3  If you are looking for the secret ingredient i...                     3   \n",
       "4  Great taffy at a great price.  There was a wid...                     0   \n",
       "\n",
       "   HelpfulnessDenominator  Percent Polarity_Rating  UserID  \n",
       "0                       1    100.0        Positive       1  \n",
       "1                       0      0.0        Negative       2  \n",
       "2                       1    100.0        Positive       3  \n",
       "3                       3    100.0        Negative       4  \n",
       "4                       0      0.0        Positive       5  "
      ]
     },
     "execution_count": 45,
     "metadata": {},
     "output_type": "execute_result"
    }
   ],
   "source": [
    "cleaned.head()"
   ]
  },
  {
   "cell_type": "code",
   "execution_count": 46,
   "metadata": {},
   "outputs": [],
   "source": [
    "user_rating_df = cleaned.pivot(index='UserID', columns='ProductId', values='Score')"
   ]
  },
  {
   "cell_type": "code",
   "execution_count": 47,
   "metadata": {},
   "outputs": [
    {
     "data": {
      "text/html": [
       "<div>\n",
       "<style scoped>\n",
       "    .dataframe tbody tr th:only-of-type {\n",
       "        vertical-align: middle;\n",
       "    }\n",
       "\n",
       "    .dataframe tbody tr th {\n",
       "        vertical-align: top;\n",
       "    }\n",
       "\n",
       "    .dataframe thead th {\n",
       "        text-align: right;\n",
       "    }\n",
       "</style>\n",
       "<table border=\"1\" class=\"dataframe\">\n",
       "  <thead>\n",
       "    <tr style=\"text-align: right;\">\n",
       "      <th>ProductId</th>\n",
       "      <th>B00002NCJC</th>\n",
       "      <th>B00002Z754</th>\n",
       "      <th>B00005V3DC</th>\n",
       "      <th>B000084DVR</th>\n",
       "      <th>B000084E1U</th>\n",
       "      <th>B000084EK4</th>\n",
       "      <th>B000084EK5</th>\n",
       "      <th>B000084EK6</th>\n",
       "      <th>B000084EK7</th>\n",
       "      <th>B000084EK8</th>\n",
       "      <th>...</th>\n",
       "      <th>B0093NIWVO</th>\n",
       "      <th>B00959DMWK</th>\n",
       "      <th>B00961CUXO</th>\n",
       "      <th>B0096E5196</th>\n",
       "      <th>B009AVDFCK</th>\n",
       "      <th>B009D668KS</th>\n",
       "      <th>B009HINRX8</th>\n",
       "      <th>B009KP6HBM</th>\n",
       "      <th>B009UOFU20</th>\n",
       "      <th>B009WSNWC4</th>\n",
       "    </tr>\n",
       "    <tr>\n",
       "      <th>UserID</th>\n",
       "      <th></th>\n",
       "      <th></th>\n",
       "      <th></th>\n",
       "      <th></th>\n",
       "      <th></th>\n",
       "      <th></th>\n",
       "      <th></th>\n",
       "      <th></th>\n",
       "      <th></th>\n",
       "      <th></th>\n",
       "      <th></th>\n",
       "      <th></th>\n",
       "      <th></th>\n",
       "      <th></th>\n",
       "      <th></th>\n",
       "      <th></th>\n",
       "      <th></th>\n",
       "      <th></th>\n",
       "      <th></th>\n",
       "      <th></th>\n",
       "      <th></th>\n",
       "    </tr>\n",
       "  </thead>\n",
       "  <tbody>\n",
       "    <tr>\n",
       "      <th>0</th>\n",
       "      <td>NaN</td>\n",
       "      <td>NaN</td>\n",
       "      <td>NaN</td>\n",
       "      <td>NaN</td>\n",
       "      <td>NaN</td>\n",
       "      <td>NaN</td>\n",
       "      <td>NaN</td>\n",
       "      <td>NaN</td>\n",
       "      <td>NaN</td>\n",
       "      <td>NaN</td>\n",
       "      <td>...</td>\n",
       "      <td>NaN</td>\n",
       "      <td>NaN</td>\n",
       "      <td>NaN</td>\n",
       "      <td>NaN</td>\n",
       "      <td>NaN</td>\n",
       "      <td>NaN</td>\n",
       "      <td>NaN</td>\n",
       "      <td>NaN</td>\n",
       "      <td>NaN</td>\n",
       "      <td>NaN</td>\n",
       "    </tr>\n",
       "    <tr>\n",
       "      <th>1</th>\n",
       "      <td>NaN</td>\n",
       "      <td>NaN</td>\n",
       "      <td>NaN</td>\n",
       "      <td>NaN</td>\n",
       "      <td>NaN</td>\n",
       "      <td>NaN</td>\n",
       "      <td>NaN</td>\n",
       "      <td>NaN</td>\n",
       "      <td>NaN</td>\n",
       "      <td>NaN</td>\n",
       "      <td>...</td>\n",
       "      <td>NaN</td>\n",
       "      <td>NaN</td>\n",
       "      <td>NaN</td>\n",
       "      <td>NaN</td>\n",
       "      <td>NaN</td>\n",
       "      <td>NaN</td>\n",
       "      <td>NaN</td>\n",
       "      <td>NaN</td>\n",
       "      <td>NaN</td>\n",
       "      <td>NaN</td>\n",
       "    </tr>\n",
       "    <tr>\n",
       "      <th>2</th>\n",
       "      <td>NaN</td>\n",
       "      <td>NaN</td>\n",
       "      <td>NaN</td>\n",
       "      <td>NaN</td>\n",
       "      <td>NaN</td>\n",
       "      <td>NaN</td>\n",
       "      <td>NaN</td>\n",
       "      <td>NaN</td>\n",
       "      <td>NaN</td>\n",
       "      <td>NaN</td>\n",
       "      <td>...</td>\n",
       "      <td>NaN</td>\n",
       "      <td>NaN</td>\n",
       "      <td>NaN</td>\n",
       "      <td>NaN</td>\n",
       "      <td>NaN</td>\n",
       "      <td>NaN</td>\n",
       "      <td>NaN</td>\n",
       "      <td>NaN</td>\n",
       "      <td>NaN</td>\n",
       "      <td>NaN</td>\n",
       "    </tr>\n",
       "    <tr>\n",
       "      <th>3</th>\n",
       "      <td>NaN</td>\n",
       "      <td>NaN</td>\n",
       "      <td>NaN</td>\n",
       "      <td>NaN</td>\n",
       "      <td>NaN</td>\n",
       "      <td>NaN</td>\n",
       "      <td>NaN</td>\n",
       "      <td>NaN</td>\n",
       "      <td>NaN</td>\n",
       "      <td>NaN</td>\n",
       "      <td>...</td>\n",
       "      <td>NaN</td>\n",
       "      <td>NaN</td>\n",
       "      <td>NaN</td>\n",
       "      <td>NaN</td>\n",
       "      <td>NaN</td>\n",
       "      <td>NaN</td>\n",
       "      <td>NaN</td>\n",
       "      <td>NaN</td>\n",
       "      <td>NaN</td>\n",
       "      <td>NaN</td>\n",
       "    </tr>\n",
       "    <tr>\n",
       "      <th>4</th>\n",
       "      <td>NaN</td>\n",
       "      <td>NaN</td>\n",
       "      <td>NaN</td>\n",
       "      <td>NaN</td>\n",
       "      <td>NaN</td>\n",
       "      <td>NaN</td>\n",
       "      <td>NaN</td>\n",
       "      <td>NaN</td>\n",
       "      <td>NaN</td>\n",
       "      <td>NaN</td>\n",
       "      <td>...</td>\n",
       "      <td>NaN</td>\n",
       "      <td>NaN</td>\n",
       "      <td>NaN</td>\n",
       "      <td>NaN</td>\n",
       "      <td>NaN</td>\n",
       "      <td>NaN</td>\n",
       "      <td>NaN</td>\n",
       "      <td>NaN</td>\n",
       "      <td>NaN</td>\n",
       "      <td>NaN</td>\n",
       "    </tr>\n",
       "  </tbody>\n",
       "</table>\n",
       "<p>5 rows × 2657 columns</p>\n",
       "</div>"
      ],
      "text/plain": [
       "ProductId  B00002NCJC  B00002Z754  B00005V3DC  B000084DVR  B000084E1U  \\\n",
       "UserID                                                                  \n",
       "0                 NaN         NaN         NaN         NaN         NaN   \n",
       "1                 NaN         NaN         NaN         NaN         NaN   \n",
       "2                 NaN         NaN         NaN         NaN         NaN   \n",
       "3                 NaN         NaN         NaN         NaN         NaN   \n",
       "4                 NaN         NaN         NaN         NaN         NaN   \n",
       "\n",
       "ProductId  B000084EK4  B000084EK5  B000084EK6  B000084EK7  B000084EK8  ...  \\\n",
       "UserID                                                                 ...   \n",
       "0                 NaN         NaN         NaN         NaN         NaN  ...   \n",
       "1                 NaN         NaN         NaN         NaN         NaN  ...   \n",
       "2                 NaN         NaN         NaN         NaN         NaN  ...   \n",
       "3                 NaN         NaN         NaN         NaN         NaN  ...   \n",
       "4                 NaN         NaN         NaN         NaN         NaN  ...   \n",
       "\n",
       "ProductId  B0093NIWVO  B00959DMWK  B00961CUXO  B0096E5196  B009AVDFCK  \\\n",
       "UserID                                                                  \n",
       "0                 NaN         NaN         NaN         NaN         NaN   \n",
       "1                 NaN         NaN         NaN         NaN         NaN   \n",
       "2                 NaN         NaN         NaN         NaN         NaN   \n",
       "3                 NaN         NaN         NaN         NaN         NaN   \n",
       "4                 NaN         NaN         NaN         NaN         NaN   \n",
       "\n",
       "ProductId  B009D668KS  B009HINRX8  B009KP6HBM  B009UOFU20  B009WSNWC4  \n",
       "UserID                                                                 \n",
       "0                 NaN         NaN         NaN         NaN         NaN  \n",
       "1                 NaN         NaN         NaN         NaN         NaN  \n",
       "2                 NaN         NaN         NaN         NaN         NaN  \n",
       "3                 NaN         NaN         NaN         NaN         NaN  \n",
       "4                 NaN         NaN         NaN         NaN         NaN  \n",
       "\n",
       "[5 rows x 2657 columns]"
      ]
     },
     "execution_count": 47,
     "metadata": {},
     "output_type": "execute_result"
    }
   ],
   "source": [
    "user_rating_df.head(5)"
   ]
  },
  {
   "cell_type": "markdown",
   "metadata": {},
   "source": [
    "#### Lets normalize it now:"
   ]
  },
  {
   "cell_type": "code",
   "execution_count": 48,
   "metadata": {},
   "outputs": [],
   "source": [
    "tf.compat.v1.disable_eager_execution()"
   ]
  },
  {
   "cell_type": "code",
   "execution_count": 49,
   "metadata": {},
   "outputs": [
    {
     "data": {
      "text/plain": [
       "array([[0., 0., 0., ..., 0., 0., 0.],\n",
       "       [0., 0., 0., ..., 0., 0., 0.],\n",
       "       [0., 0., 0., ..., 0., 0., 0.],\n",
       "       [0., 0., 0., ..., 0., 0., 0.],\n",
       "       [0., 0., 0., ..., 0., 0., 0.]])"
      ]
     },
     "execution_count": 49,
     "metadata": {},
     "output_type": "execute_result"
    }
   ],
   "source": [
    "norm_user_rating_df = user_rating_df.fillna(0) / 5.0\n",
    "trX = norm_user_rating_df.values\n",
    "trX[0:5]"
   ]
  },
  {
   "cell_type": "markdown",
   "metadata": {},
   "source": [
    "### define your parameters and placeholders"
   ]
  },
  {
   "cell_type": "code",
   "execution_count": 50,
   "metadata": {},
   "outputs": [
    {
     "name": "stdout",
     "output_type": "stream",
     "text": [
      "WARNING:tensorflow:From /opt/homebrew/anaconda3/lib/python3.11/site-packages/tensorflow/python/util/dispatch.py:1260: to_float (from tensorflow.python.ops.math_ops) is deprecated and will be removed in a future version.\n",
      "Instructions for updating:\n",
      "Use `tf.cast` instead.\n"
     ]
    },
    {
     "name": "stderr",
     "output_type": "stream",
     "text": [
      "2023-12-09 18:37:03.376146: I tensorflow/compiler/mlir/mlir_graph_optimization_pass.cc:388] MLIR V1 optimization pass is not enabled\n"
     ]
    },
    {
     "name": "stdout",
     "output_type": "stream",
     "text": [
      "0.0054912106\n",
      "0.0028017522\n",
      "0.0019259744\n",
      "0.0015674526\n",
      "0.0013452134\n",
      "0.0011917178\n",
      "0.0011145563\n",
      "0.0010490366\n",
      "0.0010058156\n",
      "0.00095013867\n"
     ]
    }
   ],
   "source": [
    "hiddenUnits = 20\n",
    "visibleUnits =  len(user_rating_df.columns)\n",
    "vb = tf.compat.v1.placeholder(\"float\", [visibleUnits])\n",
    "hb = tf.compat.v1.placeholder(\"float\", [hiddenUnits])\n",
    "W = tf.compat.v1.placeholder(\"float\", [visibleUnits, hiddenUnits])\n",
    "\n",
    "# Process phase 1 of a RBM, use v0, _h0, h0\n",
    "v0 = tf.compat.v1.placeholder(\"float\", [None, visibleUnits])\n",
    "_h0 = tf.nn.sigmoid(tf.matmul(v0, W) + hb)\n",
    "h0 = tf.nn.relu(tf.sign(_h0 - tf.random.uniform(tf.shape(input=_h0))))\n",
    "\n",
    "#Phase 2: Reconstruction\n",
    "_v1 = tf.nn.sigmoid(tf.matmul(h0, tf.transpose(W)) + vb) \n",
    "v1 = tf.nn.relu(tf.sign(_v1 - tf.random.uniform(tf.shape(input=_v1))))\n",
    "h1 = tf.nn.sigmoid(tf.matmul(v1, W) + hb)\n",
    "\n",
    "#Learning rate\n",
    "alpha = 1.0\n",
    "\n",
    "w_pos_grad = tf.matmul(tf.transpose(v0), h0)\n",
    "w_neg_grad = tf.matmul(tf.transpose(v1), h1)\n",
    "\n",
    "CD = (w_pos_grad - w_neg_grad) / tf.compat.v1.to_float(tf.shape(v0)[0])\n",
    "\n",
    "update_w = W + alpha * CD\n",
    "update_vb = vb + alpha * tf.reduce_mean(v0 - v1, 0)\n",
    "update_hb = hb + alpha * tf.reduce_mean(h0 - h1, 0)\n",
    "\n",
    "err = v0 - v1\n",
    "err_sum = tf.reduce_mean(err * err)\n",
    "\n",
    "#Current weight\n",
    "cur_w = np.zeros([visibleUnits, hiddenUnits], np.float32)\n",
    "\n",
    "cur_vb = np.zeros([visibleUnits], np.float32)\n",
    "\n",
    "cur_hb = np.zeros([hiddenUnits], np.float32)\n",
    "\n",
    "prv_w = np.zeros([visibleUnits, hiddenUnits], np.float32)\n",
    "\n",
    "prv_vb = np.zeros([visibleUnits], np.float32)\n",
    "\n",
    "prv_hb = np.zeros([hiddenUnits], np.float32)\n",
    "\n",
    "sess = tf.compat.v1.Session()\n",
    "sess.run(tf.compat.v1.global_variables_initializer())\n",
    "\n",
    "\n",
    "# Using a for loop, Run the model, with 10 epochs, batchsize = 100, and errors = []\n",
    "epochs = 10\n",
    "batchsize = 100\n",
    "errors = []\n",
    "for i in range(epochs):\n",
    "    for start, end in zip( range(0, len(trX), batchsize), range(batchsize, len(trX), batchsize)):\n",
    "        batch = trX[start:end]\n",
    "        cur_w = sess.run(update_w, feed_dict={v0: batch, W: prv_w, vb: prv_vb, hb: prv_hb})\n",
    "        cur_vb = sess.run(update_vb, feed_dict={v0: batch, W: prv_w, vb: prv_vb, hb: prv_hb})\n",
    "        cur_nb = sess.run(update_hb, feed_dict={v0: batch, W: prv_w, vb: prv_vb, hb: prv_hb})\n",
    "        prv_w = cur_w\n",
    "        prv_vb = cur_vb\n",
    "        prv_hb = cur_hb\n",
    "    errors.append(sess.run(err_sum, feed_dict={v0: trX, W: cur_w, vb: cur_vb, hb: cur_hb}))\n",
    "    print (errors[-1])"
   ]
  },
  {
   "cell_type": "code",
   "execution_count": 51,
   "metadata": {},
   "outputs": [
    {
     "data": {
      "image/png": "[encoded data removed]",
      "text/plain": [
       "<Figure size 640x480 with 1 Axes>"
      ]
     },
     "metadata": {},
     "output_type": "display_data"
    }
   ],
   "source": [
    "plt.plot(errors)\n",
    "plt.ylabel('Error')\n",
    "plt.xlabel('Epoch')\n",
    "plt.show()"
   ]
  },
  {
   "cell_type": "code",
   "execution_count": 52,
   "metadata": {},
   "outputs": [],
   "source": [
    "# select a user: mock_user_id = 143\n",
    "mock_user_id = 143"
   ]
  },
  {
   "cell_type": "code",
   "execution_count": 53,
   "metadata": {},
   "outputs": [
    {
     "data": {
      "text/plain": [
       "array([[0., 0., 0., ..., 0., 0., 0.]])"
      ]
     },
     "execution_count": 53,
     "metadata": {},
     "output_type": "execute_result"
    }
   ],
   "source": [
    "# Selecting the input user\n",
    "inputUser = trX[mock_user_id-1].reshape(1, -1)\n",
    "inputUser[0:5]"
   ]
  },
  {
   "cell_type": "code",
   "execution_count": 54,
   "metadata": {},
   "outputs": [],
   "source": [
    "# Feeding in the user and reconstructing the input. use sigmoid\n",
    "hh0 = tf.nn.sigmoid(tf.matmul(v0, W) + hb)\n",
    "vv1 = tf.nn.sigmoid(tf.matmul(hh0, tf.transpose(W)) + vb)\n",
    "feed = sess.run(hh0, feed_dict={ v0: inputUser, W: prv_w, hb: prv_hb})\n",
    "rec = sess.run(vv1, feed_dict={ hh0: feed, W: prv_w, vb: prv_vb})"
   ]
  },
  {
   "cell_type": "markdown",
   "metadata": {},
   "source": [
    "### get the scores and recommendations"
   ]
  },
  {
   "cell_type": "code",
   "execution_count": 55,
   "metadata": {},
   "outputs": [
    {
     "data": {
      "text/html": [
       "<div>\n",
       "<style scoped>\n",
       "    .dataframe tbody tr th:only-of-type {\n",
       "        vertical-align: middle;\n",
       "    }\n",
       "\n",
       "    .dataframe tbody tr th {\n",
       "        vertical-align: top;\n",
       "    }\n",
       "\n",
       "    .dataframe thead th {\n",
       "        text-align: right;\n",
       "    }\n",
       "</style>\n",
       "<table border=\"1\" class=\"dataframe\">\n",
       "  <thead>\n",
       "    <tr style=\"text-align: right;\">\n",
       "      <th></th>\n",
       "      <th>ProductId</th>\n",
       "      <th>RecommendationScore</th>\n",
       "    </tr>\n",
       "  </thead>\n",
       "  <tbody>\n",
       "    <tr>\n",
       "      <th>11445</th>\n",
       "      <td>B001EQ4G54</td>\n",
       "      <td>0.045425</td>\n",
       "    </tr>\n",
       "    <tr>\n",
       "      <th>11792</th>\n",
       "      <td>B004P4TL8E</td>\n",
       "      <td>0.027483</td>\n",
       "    </tr>\n",
       "    <tr>\n",
       "      <th>72</th>\n",
       "      <td>B006SQBRMA</td>\n",
       "      <td>0.024515</td>\n",
       "    </tr>\n",
       "    <tr>\n",
       "      <th>74</th>\n",
       "      <td>B001EPPI84</td>\n",
       "      <td>0.012050</td>\n",
       "    </tr>\n",
       "    <tr>\n",
       "      <th>6322</th>\n",
       "      <td>B000084EKW</td>\n",
       "      <td>0.011641</td>\n",
       "    </tr>\n",
       "    <tr>\n",
       "      <th>1943</th>\n",
       "      <td>B005ATI9EU</td>\n",
       "      <td>0.006303</td>\n",
       "    </tr>\n",
       "    <tr>\n",
       "      <th>8111</th>\n",
       "      <td>B005QKH18I</td>\n",
       "      <td>0.006219</td>\n",
       "    </tr>\n",
       "    <tr>\n",
       "      <th>19825</th>\n",
       "      <td>B003EZ1R46</td>\n",
       "      <td>0.005067</td>\n",
       "    </tr>\n",
       "    <tr>\n",
       "      <th>5622</th>\n",
       "      <td>B001I8BONA</td>\n",
       "      <td>0.004892</td>\n",
       "    </tr>\n",
       "    <tr>\n",
       "      <th>6422</th>\n",
       "      <td>B000OIT8T2</td>\n",
       "      <td>0.004527</td>\n",
       "    </tr>\n",
       "    <tr>\n",
       "      <th>13766</th>\n",
       "      <td>B001269EX0</td>\n",
       "      <td>0.004486</td>\n",
       "    </tr>\n",
       "    <tr>\n",
       "      <th>2120</th>\n",
       "      <td>B000EGX2E6</td>\n",
       "      <td>0.004207</td>\n",
       "    </tr>\n",
       "    <tr>\n",
       "      <th>8866</th>\n",
       "      <td>B001EQ5EQE</td>\n",
       "      <td>0.004177</td>\n",
       "    </tr>\n",
       "    <tr>\n",
       "      <th>16219</th>\n",
       "      <td>B007TJGZ54</td>\n",
       "      <td>0.004159</td>\n",
       "    </tr>\n",
       "    <tr>\n",
       "      <th>6197</th>\n",
       "      <td>B002GWHCLK</td>\n",
       "      <td>0.004092</td>\n",
       "    </tr>\n",
       "    <tr>\n",
       "      <th>2302</th>\n",
       "      <td>B0002Z9BF8</td>\n",
       "      <td>0.004002</td>\n",
       "    </tr>\n",
       "    <tr>\n",
       "      <th>392</th>\n",
       "      <td>B001FA1MCO</td>\n",
       "      <td>0.003807</td>\n",
       "    </tr>\n",
       "    <tr>\n",
       "      <th>2119</th>\n",
       "      <td>B0064MEUS6</td>\n",
       "      <td>0.003758</td>\n",
       "    </tr>\n",
       "    <tr>\n",
       "      <th>1944</th>\n",
       "      <td>B001HBTGI8</td>\n",
       "      <td>0.003685</td>\n",
       "    </tr>\n",
       "    <tr>\n",
       "      <th>4692</th>\n",
       "      <td>B00445W528</td>\n",
       "      <td>0.003571</td>\n",
       "    </tr>\n",
       "  </tbody>\n",
       "</table>\n",
       "</div>"
      ],
      "text/plain": [
       "        ProductId  RecommendationScore\n",
       "11445  B001EQ4G54             0.045425\n",
       "11792  B004P4TL8E             0.027483\n",
       "72     B006SQBRMA             0.024515\n",
       "74     B001EPPI84             0.012050\n",
       "6322   B000084EKW             0.011641\n",
       "1943   B005ATI9EU             0.006303\n",
       "8111   B005QKH18I             0.006219\n",
       "19825  B003EZ1R46             0.005067\n",
       "5622   B001I8BONA             0.004892\n",
       "6422   B000OIT8T2             0.004527\n",
       "13766  B001269EX0             0.004486\n",
       "2120   B000EGX2E6             0.004207\n",
       "8866   B001EQ5EQE             0.004177\n",
       "16219  B007TJGZ54             0.004159\n",
       "6197   B002GWHCLK             0.004092\n",
       "2302   B0002Z9BF8             0.004002\n",
       "392    B001FA1MCO             0.003807\n",
       "2119   B0064MEUS6             0.003758\n",
       "1944   B001HBTGI8             0.003685\n",
       "4692   B00445W528             0.003571"
      ]
     },
     "execution_count": 55,
     "metadata": {},
     "output_type": "execute_result"
    }
   ],
   "source": [
    "scored_asin_df_mock = cleaned.drop_duplicates(subset=['ProductId'])\n",
    "scored_asin_df_mock = scored_asin_df_mock.assign(RecommendationScore = rec[0])\n",
    "scored_asin_df_mock[['ProductId','RecommendationScore']].sort_values([\"RecommendationScore\"], ascending=False).head(20)"
   ]
  },
  {
   "cell_type": "markdown",
   "metadata": {},
   "source": [
    "We're going to use the mock userID which was 143 to see what other items he will be interested in."
   ]
  },
  {
   "cell_type": "code",
   "execution_count": 56,
   "metadata": {},
   "outputs": [
    {
     "data": {
      "text/html": [
       "<div>\n",
       "<style scoped>\n",
       "    .dataframe tbody tr th:only-of-type {\n",
       "        vertical-align: middle;\n",
       "    }\n",
       "\n",
       "    .dataframe tbody tr th {\n",
       "        vertical-align: top;\n",
       "    }\n",
       "\n",
       "    .dataframe thead th {\n",
       "        text-align: right;\n",
       "    }\n",
       "</style>\n",
       "<table border=\"1\" class=\"dataframe\">\n",
       "  <thead>\n",
       "    <tr style=\"text-align: right;\">\n",
       "      <th></th>\n",
       "      <th>ProductId</th>\n",
       "      <th>ProfileName</th>\n",
       "      <th>Score</th>\n",
       "      <th>Text</th>\n",
       "      <th>HelpfulnessNumerator</th>\n",
       "      <th>HelpfulnessDenominator</th>\n",
       "      <th>Percent</th>\n",
       "      <th>Polarity_Rating</th>\n",
       "      <th>UserID</th>\n",
       "    </tr>\n",
       "  </thead>\n",
       "  <tbody>\n",
       "    <tr>\n",
       "      <th>143</th>\n",
       "      <td>B001GVISJW</td>\n",
       "      <td>c2</td>\n",
       "      <td>5</td>\n",
       "      <td>If you are looking for a less messy version of...</td>\n",
       "      <td>0</td>\n",
       "      <td>0</td>\n",
       "      <td>0.0</td>\n",
       "      <td>Positive</td>\n",
       "      <td>143</td>\n",
       "    </tr>\n",
       "    <tr>\n",
       "      <th>3587</th>\n",
       "      <td>B004X8TK9W</td>\n",
       "      <td>c2</td>\n",
       "      <td>5</td>\n",
       "      <td>I may be dating myself here a bit but I rememb...</td>\n",
       "      <td>1</td>\n",
       "      <td>1</td>\n",
       "      <td>100.0</td>\n",
       "      <td>Positive</td>\n",
       "      <td>143</td>\n",
       "    </tr>\n",
       "    <tr>\n",
       "      <th>4993</th>\n",
       "      <td>B000FA398U</td>\n",
       "      <td>c2</td>\n",
       "      <td>5</td>\n",
       "      <td>Try these first for all your seafood soups and...</td>\n",
       "      <td>3</td>\n",
       "      <td>3</td>\n",
       "      <td>100.0</td>\n",
       "      <td>Positive</td>\n",
       "      <td>143</td>\n",
       "    </tr>\n",
       "    <tr>\n",
       "      <th>6371</th>\n",
       "      <td>B000084EKO</td>\n",
       "      <td>c2</td>\n",
       "      <td>3</td>\n",
       "      <td>I honestly cannot say that I saw any differenc...</td>\n",
       "      <td>0</td>\n",
       "      <td>0</td>\n",
       "      <td>0.0</td>\n",
       "      <td>Negative</td>\n",
       "      <td>143</td>\n",
       "    </tr>\n",
       "    <tr>\n",
       "      <th>6372</th>\n",
       "      <td>B000084EKA</td>\n",
       "      <td>c2</td>\n",
       "      <td>4</td>\n",
       "      <td>I think 9 Lives does a better job on this vari...</td>\n",
       "      <td>0</td>\n",
       "      <td>0</td>\n",
       "      <td>0.0</td>\n",
       "      <td>Positive</td>\n",
       "      <td>143</td>\n",
       "    </tr>\n",
       "  </tbody>\n",
       "</table>\n",
       "</div>"
      ],
      "text/plain": [
       "       ProductId ProfileName  Score  \\\n",
       "143   B001GVISJW          c2      5   \n",
       "3587  B004X8TK9W          c2      5   \n",
       "4993  B000FA398U          c2      5   \n",
       "6371  B000084EKO          c2      3   \n",
       "6372  B000084EKA          c2      4   \n",
       "\n",
       "                                                   Text  HelpfulnessNumerator  \\\n",
       "143   If you are looking for a less messy version of...                     0   \n",
       "3587  I may be dating myself here a bit but I rememb...                     1   \n",
       "4993  Try these first for all your seafood soups and...                     3   \n",
       "6371  I honestly cannot say that I saw any differenc...                     0   \n",
       "6372  I think 9 Lives does a better job on this vari...                     0   \n",
       "\n",
       "      HelpfulnessDenominator  Percent Polarity_Rating  UserID  \n",
       "143                        0      0.0        Positive     143  \n",
       "3587                       1    100.0        Positive     143  \n",
       "4993                       3    100.0        Positive     143  \n",
       "6371                       0      0.0        Negative     143  \n",
       "6372                       0      0.0        Positive     143  "
      ]
     },
     "execution_count": 56,
     "metadata": {},
     "output_type": "execute_result"
    }
   ],
   "source": [
    "book_df_mock = cleaned[cleaned['UserID'] == 143]\n",
    "book_df_mock.head()"
   ]
  },
  {
   "cell_type": "code",
   "execution_count": 78,
   "metadata": {},
   "outputs": [],
   "source": [
    "#Merging book_df_mock with scored_asin_df_mock by ProductID\n",
    "merged_df_mock = scored_asin_df_mock.merge(book_df_mock, on='ProductId', how='outer')"
   ]
  },
  {
   "cell_type": "code",
   "execution_count": 79,
   "metadata": {},
   "outputs": [
    {
     "data": {
      "text/html": [
       "<div>\n",
       "<style scoped>\n",
       "    .dataframe tbody tr th:only-of-type {\n",
       "        vertical-align: middle;\n",
       "    }\n",
       "\n",
       "    .dataframe tbody tr th {\n",
       "        vertical-align: top;\n",
       "    }\n",
       "\n",
       "    .dataframe thead th {\n",
       "        text-align: right;\n",
       "    }\n",
       "</style>\n",
       "<table border=\"1\" class=\"dataframe\">\n",
       "  <thead>\n",
       "    <tr style=\"text-align: right;\">\n",
       "      <th></th>\n",
       "      <th>ProductId</th>\n",
       "      <th>RecommendationScore</th>\n",
       "    </tr>\n",
       "  </thead>\n",
       "  <tbody>\n",
       "    <tr>\n",
       "      <th>1623</th>\n",
       "      <td>B001EQ4G54</td>\n",
       "      <td>0.045425</td>\n",
       "    </tr>\n",
       "    <tr>\n",
       "      <th>1683</th>\n",
       "      <td>B004P4TL8E</td>\n",
       "      <td>0.027483</td>\n",
       "    </tr>\n",
       "    <tr>\n",
       "      <th>21</th>\n",
       "      <td>B006SQBRMA</td>\n",
       "      <td>0.024515</td>\n",
       "    </tr>\n",
       "    <tr>\n",
       "      <th>23</th>\n",
       "      <td>B001EPPI84</td>\n",
       "      <td>0.012050</td>\n",
       "    </tr>\n",
       "    <tr>\n",
       "      <th>1012</th>\n",
       "      <td>B000084EKW</td>\n",
       "      <td>0.011641</td>\n",
       "    </tr>\n",
       "  </tbody>\n",
       "</table>\n",
       "</div>"
      ],
      "text/plain": [
       "       ProductId  RecommendationScore\n",
       "1623  B001EQ4G54             0.045425\n",
       "1683  B004P4TL8E             0.027483\n",
       "21    B006SQBRMA             0.024515\n",
       "23    B001EPPI84             0.012050\n",
       "1012  B000084EKW             0.011641"
      ]
     },
     "execution_count": 79,
     "metadata": {},
     "output_type": "execute_result"
    }
   ],
   "source": [
    "merged_df_mock[['ProductId','RecommendationScore']].sort_values([\"RecommendationScore\"], ascending=False).head(5)"
   ]
  },
  {
   "cell_type": "markdown",
   "metadata": {},
   "source": [
    "Above is the top 5 items that Chris will be interested in purchasing or review."
   ]
  },
  {
   "cell_type": "markdown",
   "metadata": {},
   "source": [
    "# Tunning Hyperparameters"
   ]
  },
  {
   "cell_type": "code",
   "execution_count": 59,
   "metadata": {},
   "outputs": [],
   "source": [
    "import keras_tuner as kt "
   ]
  },
  {
   "cell_type": "markdown",
   "metadata": {},
   "source": [
    "# Delete any logs from a previous run"
   ]
  },
  {
   "cell_type": "code",
   "execution_count": 60,
   "metadata": {},
   "outputs": [
    {
     "name": "stdout",
     "output_type": "stream",
     "text": [
      "The folder 'my_dir/intro_to_kt/' has been deleted.\n"
     ]
    }
   ],
   "source": [
    "import os\n",
    "import shutil\n",
    "\n",
    "# shutil module is part of the Python standard library and provides a \n",
    "# collection of utility functions for working with files and directories. \n",
    "\n",
    "folder_path = \"my_dir/intro_to_kt/\"\n",
    "\n",
    "# Check if the folder exists before attempting to delete it\n",
    "if os.path.exists(folder_path):\n",
    "    # Remove the folder and its contents recursively\n",
    "    shutil.rmtree(folder_path)\n",
    "    print(f\"The folder '{folder_path}' has been deleted.\")\n",
    "else:\n",
    "    print(f\"The folder '{folder_path}' does not exist.\")"
   ]
  },
  {
   "cell_type": "markdown",
   "metadata": {},
   "source": [
    "### Create a function with the model. \n",
    "#### Let's tune the neurons or units with values from 4 to 20 in multiple of 4"
   ]
  },
  {
   "cell_type": "code",
   "execution_count": 65,
   "metadata": {},
   "outputs": [],
   "source": [
    "def model_builder(hp):\n",
    "    # create model\n",
    "    model = Sequential()\n",
    "    \n",
    "    hp_units = hp.Int('units', min_value=4, max_value=20, step=4)\n",
    "    model.add(Dense(units=hp_units, input_dim=48, activation='relu'))\n",
    "    \n",
    "    ### add the final layer\n",
    "    model.add(Dense(1, activation='sigmoid'))\n",
    "    \n",
    "    # Compile model\n",
    "    model.compile(loss='binary_crossentropy', optimizer='Adam', metrics=['accuracy'])\n",
    "    return model"
   ]
  },
  {
   "cell_type": "markdown",
   "metadata": {},
   "source": [
    "Instantiate the tuner and perform hypertuning\n",
    "\n",
    "Instantiate the tuner to perform the hypertuning. The Keras Tuner has four tuners available - RandomSearch, Hyperband, BayesianOptimization, and Sklearn. In this tutorial, we are using Hyperband tuner.\n",
    "\n",
    "To instantiate the Hyperband tuner, you must specify the hypermodel, the objective to optimize and the maximum number of epochs to train (max_epochs).\n",
    "\n",
    "factor\n",
    "- the denominator of the number of models trained in every iteration of the training loop.\n",
    "For example, if the tuner has trained 9 models in the first loop. 9 gets divided by 3, and it continues training 3 models for a few more epochs. After that, it divides the number of models again and picks 1 model for additional training.\n",
    "\n",
    "EarlyStopping:\n",
    "- Assuming the goal of a training is to minimize the loss. With this, the metric to be monitored would be 'loss', and mode would be 'min'. A model.fit() training loop will check at end of every epoch whether the loss is no longer decreasing, considering the min_delta and patience if applicable. Once it's found no longer decreasing, model.stop_training is marked True and the training terminates."
   ]
  },
  {
   "cell_type": "code",
   "execution_count": 66,
   "metadata": {},
   "outputs": [
    {
     "name": "stdout",
     "output_type": "stream",
     "text": [
      "Reloading Tuner from my_dir/intro_to_kt/tuner0.json\n"
     ]
    }
   ],
   "source": [
    "tuner = kt.Hyperband(model_builder, objective='val_accuracy',\n",
    "                     max_epochs=10, factor=3, \n",
    "                     directory='my_dir',\n",
    "                     project_name='intro_to_kt')"
   ]
  },
  {
   "cell_type": "code",
   "execution_count": 67,
   "metadata": {},
   "outputs": [],
   "source": [
    "stop_early = tf.keras.callbacks.EarlyStopping(monitor='val_loss', patience=5)"
   ]
  },
  {
   "cell_type": "code",
   "execution_count": 68,
   "metadata": {},
   "outputs": [
    {
     "name": "stdout",
     "output_type": "stream",
     "text": [
      "Trial 5 Complete [00h 00m 00s]\n",
      "val_accuracy: 0.6024038195610046\n",
      "\n",
      "Best val_accuracy So Far: 0.6024038195610046\n",
      "Total elapsed time: 00h 00m 57s\n",
      "\n",
      "The hyperparameter search is complete. The optimal number of units in the first densely-connected\n",
      "layer is 4.\n",
      "\n"
     ]
    }
   ],
   "source": [
    "tuner.search(x_train, y_train, epochs=50, validation_split=0.2, callbacks=[stop_early])\n",
    "\n",
    "# Get the optimal hyperparameters\n",
    "best_hps=tuner.get_best_hyperparameters(num_trials=1)[0]\n",
    "print(f\"\"\"\n",
    "The hyperparameter search is complete. The optimal number of units in the first densely-connected\n",
    "layer is {best_hps.get('units')}.\n",
    "\"\"\")"
   ]
  },
  {
   "cell_type": "markdown",
   "metadata": {},
   "source": [
    "### Train the model\n",
    "\n",
    "Find the optimal number of epochs to train the model with the hyperparameters obtained from the search."
   ]
  },
  {
   "cell_type": "code",
   "execution_count": 69,
   "metadata": {},
   "outputs": [
    {
     "name": "stdout",
     "output_type": "stream",
     "text": [
      "Train on 8320 samples, validate on 2080 samples\n",
      "Epoch 1/50\n",
      "8320/8320 [==============================] - 0s 11us/sample - loss: 180.0586 - accuracy: 0.5471 - val_loss: 67.6955 - val_accuracy: 0.5760\n",
      "Epoch 2/50\n",
      "8320/8320 [==============================] - 0s 7us/sample - loss: 27.3670 - accuracy: 0.6012 - val_loss: 17.1855 - val_accuracy: 0.5928\n",
      "Epoch 3/50\n",
      "  32/8320 [..............................] - ETA: 0s - loss: 4.6092 - accuracy: 0.7188"
     ]
    },
    {
     "name": "stderr",
     "output_type": "stream",
     "text": [
      "2023-12-09 18:38:32.270575: W tensorflow/c/c_api.cc:305] Operation '{name:'training_2/Adam/dense_3/bias/v/Assign' id:688 op device:{requested: '', assigned: ''} def:{{{node training_2/Adam/dense_3/bias/v/Assign}} = AssignVariableOp[_has_manual_control_dependencies=true, dtype=DT_FLOAT, validate_shape=false](training_2/Adam/dense_3/bias/v, training_2/Adam/dense_3/bias/v/Initializer/zeros)}}' was changed by setting attribute after it was run by a session. This mutation will have no effect, and will trigger an error in the future. Either don't modify nodes after running them or create a new session.\n",
      "2023-12-09 18:38:32.358179: W tensorflow/c/c_api.cc:305] Operation '{name:'loss_1/mul' id:526 op device:{requested: '', assigned: ''} def:{{{node loss_1/mul}} = Mul[T=DT_FLOAT, _has_manual_control_dependencies=true](loss_1/mul/x, loss_1/dense_3_loss/value)}}' was changed by setting attribute after it was run by a session. This mutation will have no effect, and will trigger an error in the future. Either don't modify nodes after running them or create a new session.\n"
     ]
    },
    {
     "name": "stdout",
     "output_type": "stream",
     "text": [
      "8320/8320 [==============================] - 0s 7us/sample - loss: 7.5929 - accuracy: 0.6149 - val_loss: 6.3767 - val_accuracy: 0.6000\n",
      "Epoch 4/50\n",
      "8320/8320 [==============================] - 0s 7us/sample - loss: 2.9876 - accuracy: 0.6204 - val_loss: 3.0064 - val_accuracy: 0.6000\n",
      "Epoch 5/50\n",
      "8320/8320 [==============================] - 0s 7us/sample - loss: 1.6720 - accuracy: 0.6218 - val_loss: 1.7865 - val_accuracy: 0.6048\n",
      "Epoch 6/50\n",
      "8320/8320 [==============================] - 0s 7us/sample - loss: 1.2200 - accuracy: 0.6213 - val_loss: 1.3341 - val_accuracy: 0.6038\n",
      "Epoch 7/50\n",
      "8320/8320 [==============================] - 0s 7us/sample - loss: 1.0172 - accuracy: 0.6216 - val_loss: 1.1236 - val_accuracy: 0.6096\n",
      "Epoch 8/50\n",
      "8320/8320 [==============================] - 0s 7us/sample - loss: 0.9003 - accuracy: 0.6212 - val_loss: 0.9920 - val_accuracy: 0.6053\n",
      "Epoch 9/50\n",
      "8320/8320 [==============================] - 0s 7us/sample - loss: 0.8014 - accuracy: 0.6233 - val_loss: 0.9115 - val_accuracy: 0.6043\n",
      "Epoch 10/50\n",
      "8320/8320 [==============================] - 0s 7us/sample - loss: 0.7358 - accuracy: 0.6215 - val_loss: 0.8669 - val_accuracy: 0.6043\n",
      "Epoch 11/50\n",
      "8320/8320 [==============================] - 0s 7us/sample - loss: 0.7070 - accuracy: 0.6219 - val_loss: 0.8419 - val_accuracy: 0.6106\n",
      "Epoch 12/50\n",
      "8320/8320 [==============================] - 0s 7us/sample - loss: 0.6908 - accuracy: 0.6232 - val_loss: 0.8300 - val_accuracy: 0.6038\n",
      "Epoch 13/50\n",
      "8320/8320 [==============================] - 0s 7us/sample - loss: 0.6851 - accuracy: 0.6192 - val_loss: 0.8066 - val_accuracy: 0.6096\n",
      "Epoch 14/50\n",
      "8320/8320 [==============================] - 0s 7us/sample - loss: 0.6766 - accuracy: 0.6201 - val_loss: 0.7918 - val_accuracy: 0.6101\n",
      "Epoch 15/50\n",
      "8320/8320 [==============================] - 0s 7us/sample - loss: 0.6729 - accuracy: 0.6208 - val_loss: 0.7797 - val_accuracy: 0.6091\n",
      "Epoch 16/50\n",
      "8320/8320 [==============================] - 0s 8us/sample - loss: 0.6673 - accuracy: 0.6230 - val_loss: 0.7742 - val_accuracy: 0.6072\n",
      "Epoch 17/50\n",
      "8320/8320 [==============================] - 0s 7us/sample - loss: 0.6668 - accuracy: 0.6213 - val_loss: 0.7815 - val_accuracy: 0.6029\n",
      "Epoch 18/50\n",
      "8320/8320 [==============================] - 0s 7us/sample - loss: 0.6653 - accuracy: 0.6221 - val_loss: 0.7773 - val_accuracy: 0.6034\n",
      "Epoch 19/50\n",
      "8320/8320 [==============================] - 0s 7us/sample - loss: 0.6663 - accuracy: 0.6202 - val_loss: 0.7716 - val_accuracy: 0.6048\n",
      "Epoch 20/50\n",
      "8320/8320 [==============================] - 0s 7us/sample - loss: 0.6644 - accuracy: 0.6216 - val_loss: 0.7757 - val_accuracy: 0.6101\n",
      "Epoch 21/50\n",
      "8320/8320 [==============================] - 0s 7us/sample - loss: 0.6687 - accuracy: 0.6221 - val_loss: 0.7763 - val_accuracy: 0.6087\n",
      "Epoch 22/50\n",
      "8320/8320 [==============================] - 0s 7us/sample - loss: 0.6652 - accuracy: 0.6215 - val_loss: 0.7725 - val_accuracy: 0.6053\n",
      "Epoch 23/50\n",
      "8320/8320 [==============================] - 0s 7us/sample - loss: 0.6663 - accuracy: 0.6231 - val_loss: 0.7735 - val_accuracy: 0.6053\n",
      "Epoch 24/50\n",
      "8320/8320 [==============================] - 0s 7us/sample - loss: 0.6623 - accuracy: 0.6237 - val_loss: 0.7729 - val_accuracy: 0.6058\n",
      "Epoch 25/50\n",
      "8320/8320 [==============================] - 0s 7us/sample - loss: 0.6663 - accuracy: 0.6221 - val_loss: 0.7869 - val_accuracy: 0.6091\n",
      "Epoch 26/50\n",
      "8320/8320 [==============================] - 0s 7us/sample - loss: 0.6645 - accuracy: 0.6232 - val_loss: 0.7776 - val_accuracy: 0.6077\n",
      "Epoch 27/50\n",
      "8320/8320 [==============================] - 0s 8us/sample - loss: 0.6639 - accuracy: 0.6234 - val_loss: 0.7927 - val_accuracy: 0.6038\n",
      "Epoch 28/50\n",
      "8320/8320 [==============================] - 0s 7us/sample - loss: 0.6628 - accuracy: 0.6234 - val_loss: 0.7768 - val_accuracy: 0.6062\n",
      "Epoch 29/50\n",
      "8320/8320 [==============================] - 0s 7us/sample - loss: 0.6629 - accuracy: 0.6245 - val_loss: 0.7822 - val_accuracy: 0.6062\n",
      "Epoch 30/50\n",
      "8320/8320 [==============================] - 0s 7us/sample - loss: 0.6652 - accuracy: 0.6239 - val_loss: 0.7930 - val_accuracy: 0.6038\n",
      "Epoch 31/50\n",
      "8320/8320 [==============================] - 0s 9us/sample - loss: 0.6654 - accuracy: 0.6220 - val_loss: 0.7779 - val_accuracy: 0.6077\n",
      "Epoch 32/50\n",
      "8320/8320 [==============================] - 0s 8us/sample - loss: 0.6630 - accuracy: 0.6232 - val_loss: 0.7780 - val_accuracy: 0.6077\n",
      "Epoch 33/50\n",
      "8320/8320 [==============================] - 0s 7us/sample - loss: 0.6639 - accuracy: 0.6232 - val_loss: 0.7828 - val_accuracy: 0.6077\n",
      "Epoch 34/50\n",
      "8320/8320 [==============================] - 0s 7us/sample - loss: 0.6631 - accuracy: 0.6233 - val_loss: 0.7805 - val_accuracy: 0.6067\n",
      "Epoch 35/50\n",
      "8320/8320 [==============================] - 0s 7us/sample - loss: 0.6626 - accuracy: 0.6245 - val_loss: 0.7764 - val_accuracy: 0.6067\n",
      "Epoch 36/50\n",
      "8320/8320 [==============================] - 0s 7us/sample - loss: 0.6620 - accuracy: 0.6246 - val_loss: 0.7842 - val_accuracy: 0.6087\n",
      "Epoch 37/50\n",
      "8320/8320 [==============================] - 0s 7us/sample - loss: 0.6625 - accuracy: 0.6242 - val_loss: 0.7906 - val_accuracy: 0.6077\n",
      "Epoch 38/50\n",
      "8320/8320 [==============================] - 0s 7us/sample - loss: 0.6623 - accuracy: 0.6240 - val_loss: 0.7838 - val_accuracy: 0.6072\n",
      "Epoch 39/50\n",
      "8320/8320 [==============================] - 0s 7us/sample - loss: 0.6619 - accuracy: 0.6256 - val_loss: 0.7816 - val_accuracy: 0.6077\n",
      "Epoch 40/50\n",
      "8320/8320 [==============================] - 0s 7us/sample - loss: 0.6620 - accuracy: 0.6234 - val_loss: 0.7858 - val_accuracy: 0.6082\n",
      "Epoch 41/50\n",
      "8320/8320 [==============================] - 0s 7us/sample - loss: 0.6615 - accuracy: 0.6244 - val_loss: 0.7849 - val_accuracy: 0.6087\n",
      "Epoch 42/50\n",
      "8320/8320 [==============================] - 0s 7us/sample - loss: 0.6608 - accuracy: 0.6248 - val_loss: 0.7974 - val_accuracy: 0.6082\n",
      "Epoch 43/50\n",
      "8320/8320 [==============================] - 0s 7us/sample - loss: 0.6617 - accuracy: 0.6240 - val_loss: 0.7870 - val_accuracy: 0.6082\n",
      "Epoch 44/50\n",
      "8320/8320 [==============================] - 0s 7us/sample - loss: 0.6603 - accuracy: 0.6246 - val_loss: 0.8096 - val_accuracy: 0.6077\n",
      "Epoch 45/50\n",
      "8320/8320 [==============================] - 0s 7us/sample - loss: 0.6616 - accuracy: 0.6244 - val_loss: 0.7861 - val_accuracy: 0.6091\n",
      "Epoch 46/50\n",
      "8320/8320 [==============================] - 0s 7us/sample - loss: 0.6608 - accuracy: 0.6251 - val_loss: 0.7990 - val_accuracy: 0.6087\n",
      "Epoch 47/50\n",
      "8320/8320 [==============================] - 0s 7us/sample - loss: 0.6601 - accuracy: 0.6261 - val_loss: 0.8020 - val_accuracy: 0.6091\n",
      "Epoch 48/50\n",
      "8320/8320 [==============================] - 0s 7us/sample - loss: 0.6598 - accuracy: 0.6260 - val_loss: 0.8110 - val_accuracy: 0.6087\n",
      "Epoch 49/50\n",
      "8320/8320 [==============================] - 0s 7us/sample - loss: 0.6592 - accuracy: 0.6260 - val_loss: 0.8072 - val_accuracy: 0.6091\n",
      "Epoch 50/50\n",
      "8320/8320 [==============================] - 0s 7us/sample - loss: 0.6591 - accuracy: 0.6266 - val_loss: 0.8123 - val_accuracy: 0.6087\n",
      "Best epoch: 11\n"
     ]
    }
   ],
   "source": [
    "# Build the model with the optimal hyperparameters and train it on the data for 50 epochs\n",
    "model = tuner.hypermodel.build(best_hps)\n",
    "history = model.fit(x_train, y_train, epochs=50, validation_split=0.2)\n",
    "\n",
    "val_acc_per_epoch = history.history['val_accuracy']\n",
    "best_epoch = val_acc_per_epoch.index(max(val_acc_per_epoch)) + 1\n",
    "print('Best epoch: %d' % (best_epoch,))"
   ]
  },
  {
   "cell_type": "markdown",
   "metadata": {},
   "source": [
    "Re-instantiate the hypermodel and t|rain it with the optimal number of epochs from above."
   ]
  },
  {
   "cell_type": "code",
   "execution_count": 70,
   "metadata": {},
   "outputs": [
    {
     "name": "stdout",
     "output_type": "stream",
     "text": [
      "Train on 8320 samples, validate on 2080 samples\n",
      "Epoch 1/11\n",
      "8320/8320 [==============================] - 0s 12us/sample - loss: 431.1956 - accuracy: 0.5395 - val_loss: 163.7834 - val_accuracy: 0.5288\n",
      "Epoch 2/11\n",
      "8320/8320 [==============================] - 0s 7us/sample - loss: 52.5240 - accuracy: 0.5828 - val_loss: 17.9146 - val_accuracy: 0.5798\n",
      "Epoch 3/11\n",
      "  32/8320 [..............................] - ETA: 0s - loss: 4.6159 - accuracy: 0.5312"
     ]
    },
    {
     "name": "stderr",
     "output_type": "stream",
     "text": [
      "2023-12-09 18:38:44.750240: W tensorflow/c/c_api.cc:305] Operation '{name:'training_4/Adam/dense_4/kernel/v/Assign' id:1006 op device:{requested: '', assigned: ''} def:{{{node training_4/Adam/dense_4/kernel/v/Assign}} = AssignVariableOp[_has_manual_control_dependencies=true, dtype=DT_FLOAT, validate_shape=false](training_4/Adam/dense_4/kernel/v, training_4/Adam/dense_4/kernel/v/Initializer/zeros)}}' was changed by setting attribute after it was run by a session. This mutation will have no effect, and will trigger an error in the future. Either don't modify nodes after running them or create a new session.\n",
      "2023-12-09 18:38:44.844733: W tensorflow/c/c_api.cc:305] Operation '{name:'loss_2/mul' id:859 op device:{requested: '', assigned: ''} def:{{{node loss_2/mul}} = Mul[T=DT_FLOAT, _has_manual_control_dependencies=true](loss_2/mul/x, loss_2/dense_5_loss/value)}}' was changed by setting attribute after it was run by a session. This mutation will have no effect, and will trigger an error in the future. Either don't modify nodes after running them or create a new session.\n"
     ]
    },
    {
     "name": "stdout",
     "output_type": "stream",
     "text": [
      "8320/8320 [==============================] - 0s 8us/sample - loss: 7.8863 - accuracy: 0.6174 - val_loss: 6.2868 - val_accuracy: 0.6019\n",
      "Epoch 4/11\n",
      "8320/8320 [==============================] - 0s 7us/sample - loss: 3.0384 - accuracy: 0.6208 - val_loss: 3.3960 - val_accuracy: 0.6048\n",
      "Epoch 5/11\n",
      "8320/8320 [==============================] - 0s 7us/sample - loss: 1.8739 - accuracy: 0.6236 - val_loss: 2.3351 - val_accuracy: 0.6048\n",
      "Epoch 6/11\n",
      "8320/8320 [==============================] - 0s 7us/sample - loss: 1.3722 - accuracy: 0.6214 - val_loss: 1.7241 - val_accuracy: 0.6053\n",
      "Epoch 7/11\n",
      "8320/8320 [==============================] - 0s 7us/sample - loss: 1.0838 - accuracy: 0.6212 - val_loss: 1.3500 - val_accuracy: 0.6096\n",
      "Epoch 8/11\n",
      "8320/8320 [==============================] - 0s 7us/sample - loss: 0.8836 - accuracy: 0.6209 - val_loss: 1.1973 - val_accuracy: 0.6034\n",
      "Epoch 9/11\n",
      "8320/8320 [==============================] - 0s 7us/sample - loss: 0.7901 - accuracy: 0.6209 - val_loss: 1.0925 - val_accuracy: 0.6067\n",
      "Epoch 10/11\n",
      "8320/8320 [==============================] - 0s 7us/sample - loss: 0.7279 - accuracy: 0.6213 - val_loss: 1.0246 - val_accuracy: 0.6062\n",
      "Epoch 11/11\n",
      "8320/8320 [==============================] - 0s 7us/sample - loss: 0.6812 - accuracy: 0.6214 - val_loss: 1.0026 - val_accuracy: 0.6058\n"
     ]
    },
    {
     "data": {
      "text/plain": [
       "<keras.src.callbacks.History at 0x2e172e890>"
      ]
     },
     "execution_count": 70,
     "metadata": {},
     "output_type": "execute_result"
    }
   ],
   "source": [
    "hypermodel = tuner.hypermodel.build(best_hps)\n",
    "\n",
    "# Retrain the model\n",
    "hypermodel.fit(x_train, y_train, epochs=best_epoch, validation_split=0.2)"
   ]
  },
  {
   "cell_type": "markdown",
   "metadata": {},
   "source": [
    "evaluate the hypermodel on the test data."
   ]
  },
  {
   "cell_type": "code",
   "execution_count": 71,
   "metadata": {},
   "outputs": [
    {
     "name": "stdout",
     "output_type": "stream",
     "text": [
      "[test loss, test accuracy]: [0.7392454730547392, 0.6182692]\n"
     ]
    }
   ],
   "source": [
    "eval_result = hypermodel.evaluate(x_train, y_train)\n",
    "print(\"[test loss, test accuracy]:\", eval_result)"
   ]
  },
  {
   "cell_type": "code",
   "execution_count": 73,
   "metadata": {},
   "outputs": [
    {
     "data": {
      "text/plain": [
       "<sklearn.metrics._plot.confusion_matrix.ConfusionMatrixDisplay at 0x2e172f350>"
      ]
     },
     "execution_count": 73,
     "metadata": {},
     "output_type": "execute_result"
    },
    {
     "data": {
      "image/png": "[encoded data removed]",
      "text/plain": [
       "<Figure size 640x480 with 2 Axes>"
      ]
     },
     "metadata": {},
     "output_type": "display_data"
    }
   ],
   "source": [
    "clf = SVC(random_state=0)\n",
    "clf.fit(x_train, y_train)\n",
    "SVC(random_state=0)\n",
    "ConfusionMatrixDisplay.from_estimator(clf, x_test, y_test)"
   ]
  },
  {
   "cell_type": "code",
   "execution_count": 74,
   "metadata": {},
   "outputs": [
    {
     "data": {
      "text/plain": [
       "<matplotlib.legend.Legend at 0x2e1201590>"
      ]
     },
     "execution_count": 74,
     "metadata": {},
     "output_type": "execute_result"
    },
    {
     "data": {
      "image/png": "[encoded data removed]",
      "text/plain": [
       "<Figure size 1200x600 with 1 Axes>"
      ]
     },
     "metadata": {},
     "output_type": "display_data"
    }
   ],
   "source": [
    "plt.figure(figsize=(12,6))\n",
    "plt.plot(model.history.history['loss'][:])\n",
    "plt.plot(model.history.history['val_loss'][:])\n",
    "plt.title('Model loss')\n",
    "plt.xlabel('epoch')\n",
    "plt.ylabel('loss (mse)')\n",
    "plt.legend(['Train', 'Val'], loc='upper right')"
   ]
  },
  {
   "cell_type": "code",
   "execution_count": 75,
   "metadata": {},
   "outputs": [
    {
     "name": "stderr",
     "output_type": "stream",
     "text": [
      "2023-12-09 18:38:56.176768: W tensorflow/c/c_api.cc:305] Operation '{name:'dense_3/Sigmoid' id:469 op device:{requested: '', assigned: ''} def:{{{node dense_3/Sigmoid}} = Sigmoid[T=DT_FLOAT, _has_manual_control_dependencies=true](dense_3/BiasAdd)}}' was changed by setting attribute after it was run by a session. This mutation will have no effect, and will trigger an error in the future. Either don't modify nodes after running them or create a new session.\n"
     ]
    },
    {
     "data": {
      "text/plain": [
       "array([[0.3761968],\n",
       "       [0.3761968],\n",
       "       [0.3761968],\n",
       "       [0.3761968],\n",
       "       [0.3761968]], dtype=float32)"
      ]
     },
     "execution_count": 75,
     "metadata": {},
     "output_type": "execute_result"
    }
   ],
   "source": [
    "from sklearn.metrics import mean_absolute_error\n",
    "\n",
    "# Let's check how much we are off on average\n",
    "y_pred = model.predict(x_test)\n",
    "mae = mean_absolute_error(y_test, y_pred)\n",
    "\n",
    "y_pred[0:5]"
   ]
  },
  {
   "cell_type": "code",
   "execution_count": 76,
   "metadata": {},
   "outputs": [
    {
     "data": {
      "text/plain": [
       "0.4693741890389573"
      ]
     },
     "execution_count": 76,
     "metadata": {},
     "output_type": "execute_result"
    }
   ],
   "source": [
    "mae"
   ]
  },
  {
   "cell_type": "code",
   "execution_count": 77,
   "metadata": {},
   "outputs": [
    {
     "data": {
      "text/plain": [
       "array([0.3761968], dtype=float32)"
      ]
     },
     "execution_count": 77,
     "metadata": {},
     "output_type": "execute_result"
    }
   ],
   "source": [
    "y_pred[42]"
   ]
  },
  {
   "cell_type": "markdown",
   "metadata": {},
   "source": [
    "<h2> Conclusion and Summary</h2>"
   ]
  },
  {
   "cell_type": "markdown",
   "metadata": {},
   "source": [
    "In this project we created a simple RNN model to determine where a review was positive or negative. We initial explored the data by plotting the total number or review by reviewer displaying the Top 10. We displayed the top 10 using a histogram, and added a Top 25. "
   ]
  },
  {
   "cell_type": "markdown",
   "metadata": {},
   "source": [
    "The RNN Model was able to recommend products for the user c2. According to the matrix the model predicted correctly 1488 the sentiment correctly of the reviews."
   ]
  },
  {
   "cell_type": "code",
   "execution_count": null,
   "metadata": {},
   "outputs": [],
   "source": []
  }
 ],
 "metadata": {
  "interpreter": {
   "hash": "ee7ed3f0df548eecdf4d461e89a035f3461a5fbd854995375d7e645df9183441"
  },
  "kernelspec": {
   "display_name": "Python 3 (ipykernel)",
   "language": "python",
   "name": "python3"
  },
  "language_info": {
   "codemirror_mode": {
    "name": "ipython",
    "version": 3
   },
   "file_extension": ".py",
   "mimetype": "text/x-python",
   "name": "python",
   "nbconvert_exporter": "python",
   "pygments_lexer": "ipython3",
   "version": "3.11.5"
  }
 },
 "nbformat": 4,
 "nbformat_minor": 2
}
